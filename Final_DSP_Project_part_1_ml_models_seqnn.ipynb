{
  "nbformat": 4,
  "nbformat_minor": 0,
  "metadata": {
    "colab": {
      "name": "Final_DSP_Project.ipynb",
      "provenance": [],
      "collapsed_sections": [
        "b-DGgRcR286Z"
      ],
      "toc_visible": true
    },
    "kernelspec": {
      "name": "python3",
      "display_name": "Python 3"
    }
  },
  "cells": [
    {
      "cell_type": "markdown",
      "metadata": {
        "id": "fbcq5-i6LSn3",
        "colab_type": "text"
      },
      "source": [
        "### Mount/Unmount Google Drive"
      ]
    },
    {
      "cell_type": "code",
      "metadata": {
        "id": "__l7H4B0URTm",
        "colab_type": "code",
        "colab": {
          "base_uri": "https://localhost:8080/",
          "height": 122
        },
        "outputId": "c8ee4fce-8e41-4b8f-a933-575b07abf2dc"
      },
      "source": [
        "from google.colab import drive\n",
        "drive.mount('/content/drive')"
      ],
      "execution_count": 1,
      "outputs": [
        {
          "output_type": "stream",
          "text": [
            "Go to this URL in a browser: https://accounts.google.com/o/oauth2/auth?client_id=947318989803-6bn6qk8qdgf4n4g3pfee6491hc0brc4i.apps.googleusercontent.com&redirect_uri=urn%3aietf%3awg%3aoauth%3a2.0%3aoob&response_type=code&scope=email%20https%3a%2f%2fwww.googleapis.com%2fauth%2fdocs.test%20https%3a%2f%2fwww.googleapis.com%2fauth%2fdrive%20https%3a%2f%2fwww.googleapis.com%2fauth%2fdrive.photos.readonly%20https%3a%2f%2fwww.googleapis.com%2fauth%2fpeopleapi.readonly\n",
            "\n",
            "Enter your authorization code:\n",
            "··········\n",
            "Mounted at /content/drive\n"
          ],
          "name": "stdout"
        }
      ]
    },
    {
      "cell_type": "code",
      "metadata": {
        "id": "3XzQwJ8t8dcs",
        "colab_type": "code",
        "colab": {}
      },
      "source": [
        "drive.flush_and_unmount()"
      ],
      "execution_count": 0,
      "outputs": []
    },
    {
      "cell_type": "code",
      "metadata": {
        "id": "C0bnWTw4m9Ex",
        "colab_type": "code",
        "colab": {}
      },
      "source": [
        "drive.mount(\"/content/drive\", force_remount=True)"
      ],
      "execution_count": 0,
      "outputs": []
    },
    {
      "cell_type": "markdown",
      "metadata": {
        "id": "IzLNLcZwLqjN",
        "colab_type": "text"
      },
      "source": [
        "### Install/import packages and libraries"
      ]
    },
    {
      "cell_type": "code",
      "metadata": {
        "id": "niaKepxUYsyT",
        "colab_type": "code",
        "colab": {}
      },
      "source": [
        "import numpy as np\n",
        "import pandas as pd\n",
        "import random\n",
        "import os\n",
        "import cv2 \n",
        "from google.colab.patches import cv2_imshow\n",
        "from matplotlib import pyplot as plt\n",
        "\n",
        "from sklearn.model_selection import train_test_split\n",
        "from sklearn.metrics import mean_absolute_error, mean_squared_error, r2_score\n",
        "from sklearn.metrics import accuracy_score, precision_score, recall_score\n",
        "from sklearn.metrics import confusion_matrix, f1_score, average_precision_score\n",
        "from sklearn.metrics import precision_recall_curve, plot_precision_recall_curve\n",
        "\n",
        "import argparse\n",
        "import re\n",
        "import time\n",
        "import urllib.request as lib\n",
        "\n",
        "import tensorflow as tf\n",
        "from tensorflow import keras"
      ],
      "execution_count": 0,
      "outputs": []
    },
    {
      "cell_type": "code",
      "metadata": {
        "id": "L1GyYZtwUoAS",
        "colab_type": "code",
        "outputId": "ea549be2-3de6-4386-c1ff-4fa16a34567f",
        "colab": {
          "base_uri": "https://localhost:8080/",
          "height": 34
        }
      },
      "source": [
        "# Uncomment your directory structure // Comment others\n",
        "\n",
        "#dir='/content/drive/My Drive/Sport_Images/Sport_Images/table_tennis/'\n",
        "dir='/content/drive/My Drive/Colab Notebooks/Project1/train/tabletennis/'\n",
        "image='image.jpeg'\n",
        "filename = dir+image\n",
        "filename"
      ],
      "execution_count": 3,
      "outputs": [
        {
          "output_type": "execute_result",
          "data": {
            "text/plain": [
              "'/content/drive/My Drive/Colab Notebooks/Project1/train/tabletennis/image.jpeg'"
            ]
          },
          "metadata": {
            "tags": []
          },
          "execution_count": 3
        }
      ]
    },
    {
      "cell_type": "code",
      "metadata": {
        "id": "c7fs5joG1vl1",
        "colab_type": "code",
        "colab": {}
      },
      "source": [
        "# Where to save the figures\n",
        "PROJECT_ROOT_DIR = \"/content/drive/My Drive/Colab Notebooks/Project1/\"\n",
        "IMAGES_PATH = os.path.join(PROJECT_ROOT_DIR, \"results\")\n",
        "os.makedirs(IMAGES_PATH, exist_ok=True)\n",
        "\n",
        "def save_fig(fig_id, tight_layout=True, fig_extension=\"png\", resolution=300):\n",
        "    path = os.path.join(IMAGES_PATH, fig_id + \".\" + fig_extension)\n",
        "    print(\"Saving figure\", fig_id)\n",
        "    if tight_layout:\n",
        "        plt.tight_layout()\n",
        "    plt.savefig(path, format=fig_extension, dpi=resolution)"
      ],
      "execution_count": 0,
      "outputs": []
    },
    {
      "cell_type": "code",
      "metadata": {
        "colab_type": "code",
        "id": "mULvyKhh61M7",
        "colab": {}
      },
      "source": [
        "def process_image(img, desired_size = 128):\n",
        "    height,width,ch = img.shape\n",
        "    ratio = desired_size/height\n",
        "    width = int(width*ratio) if (width*ratio)<300 else 300\n",
        "    height =  int(desired_size)\n",
        "    dimensions = (width,height)\n",
        "    image = cv2.resize(img,dimensions,interpolation=cv2.INTER_AREA)    \n",
        "    # Pad bottom with zeros to desired size otherwise crop to desired size\n",
        "    delta_w = (desired_size - width) if (desired_size - width) > 0 else 0\n",
        "    left, right = 0, delta_w\n",
        "    top, bottom = 0, 0\n",
        "    color = [0, 0, 0]\n",
        "    image = cv2.copyMakeBorder(image, top, bottom, left, right, cv2.BORDER_CONSTANT, value=color)\n",
        "    dimensions = (desired_size, desired_size)\n",
        "    image = cv2.resize(img,dimensions,interpolation=cv2.INTER_AREA)\n",
        "    return image\n",
        "\n",
        "#Display an RGB image in the proper size\n",
        "def show_image(file,size=128):\n",
        "    img = cv2.imread(file)\n",
        "    image = process_image(img,size)\n",
        "    #CV2 reads an image in BGR format. We need to convert it to RGB\n",
        "    b,g,r = cv2.split(image)       # get b,g,r\n",
        "    rgb_img = cv2.merge([r,g,b])     # switch it to rgb\n",
        "    plt.imshow(rgb_img)\n",
        "    return\n",
        "\n",
        "def url_to_image(url):\n",
        "\t# download the image, convert it to a NumPy array, and then read it into OpenCV format\n",
        "\tresp = lib.urlopen(url)\n",
        "\timg = np.asarray(bytearray(resp.read()), dtype=\"uint8\")\n",
        "\timg = cv2.imdecode(img,cv2.IMREAD_COLOR)\n",
        " \n",
        "  # Fix width to 300, keep aspect ration and adjust height\n",
        "\tdesired_size = 300\n",
        "\timage = process_image(img,desired_size)\n",
        "\treturn image\n",
        "\n",
        "#Show a list of keys \n",
        "def getList(dict): \n",
        "    return dict.keys()"
      ],
      "execution_count": 0,
      "outputs": []
    },
    {
      "cell_type": "code",
      "metadata": {
        "id": "Ea7AjOmXel4g",
        "colab_type": "code",
        "colab": {}
      },
      "source": [
        "# Geron - Hands-On Machine Learning with Scikit-Learn, Keras & Tension Flow\n",
        "def plot_learning_curves1(model, X_train,X_val, y_train, y_val ):\n",
        "    train_errors, val_errors = [], []\n",
        "    for m in range(1, len(X_train)):\n",
        "        model.fit(X_train[:m], y_train[:m])\n",
        "        y_train_predict = model.predict(X_train[:m])\n",
        "        y_val_predict = model.predict(X_val)\n",
        "        train_errors.append(mean_squared_error(y_train[:m], y_train_predict))\n",
        "        val_errors.append(mean_squared_error(y_val, y_val_predict))\n",
        "    return train_errors,val_errors\n",
        "\n",
        "def eval(y, y_pred):\n",
        "    acc = accuracy_score(y, y_pred)\n",
        "    pre = precision_score(y, y_pred)\n",
        "    rec = recall_score(y, y_pred)\n",
        "    f1 = f1_score(y, y_pred)\n",
        "    print('F1 Score: ', '{:.2f}'.format(f1),'\\tAccuracy: ', '{:.2f}'.format(acc),\n",
        "          '\\tPrecison: ','{:.2f}'.format(pre),'\\tRecall: ', '{:.2f}'.format(rec))\n",
        "    return   "
      ],
      "execution_count": 0,
      "outputs": []
    },
    {
      "cell_type": "markdown",
      "metadata": {
        "id": "Z3GEQfNCCCYn",
        "colab_type": "text"
      },
      "source": [
        "### Change Working Directory"
      ]
    },
    {
      "cell_type": "code",
      "metadata": {
        "id": "0IJkMFbIW6M1",
        "colab_type": "code",
        "outputId": "aea3ed43-6fc7-42c6-e6b1-b483547b9659",
        "colab": {
          "base_uri": "https://localhost:8080/",
          "height": 68
        }
      },
      "source": [
        "# Collab: /content/drive/My Drive/Colab Notebooks/Project1\n",
        "# Check current working directory.\n",
        "retval = os.getcwd()\n",
        "print(\"Current working directory %s\" % retval)\n",
        "path = input()\n",
        "\n",
        "# Now change the directory\n",
        "os.chdir( path )\n",
        "\n",
        "# Check current working directory.\n",
        "retval = os.getcwd()\n",
        "\n",
        "print(\"Directory changed successfully %s\" % retval)"
      ],
      "execution_count": 7,
      "outputs": [
        {
          "output_type": "stream",
          "text": [
            "Current working directory /content\n",
            "/content/drive/My Drive/Colab Notebooks/Project1\n",
            "Directory changed successfully /content/drive/My Drive/Colab Notebooks/Project1\n"
          ],
          "name": "stdout"
        }
      ]
    },
    {
      "cell_type": "markdown",
      "metadata": {
        "id": "5lbOMqQaNuqZ",
        "colab_type": "text"
      },
      "source": [
        "### Load images from Google-Drive"
      ]
    },
    {
      "cell_type": "code",
      "metadata": {
        "id": "4ITlAdZMNp68",
        "colab_type": "code",
        "colab": {}
      },
      "source": [
        "directory = '/content/drive/My Drive/Colab Notebooks/Project1/train/'\n",
        "train_list=[]\n",
        "idx, idx_y= 0, 0\n",
        "y=np.zeros(963)\n",
        "for path, dirs, files in os.walk(directory):\n",
        "    for file in files:\n",
        "      img = path +'/' + file\n",
        "      img_rd = cv2.imread(img)\n",
        "      image = process_image(img_rd,300)\n",
        "      train_list.append(image)\n",
        "      if path == '/content/drive/My Drive/Colab Notebooks/Project1/train/tabletennis':\n",
        "        y[idx] = 1\n",
        "#        print(idx, path +'/' + file)\n",
        "      idx += 1\n",
        "idx_y = idx        "
      ],
      "execution_count": 0,
      "outputs": []
    },
    {
      "cell_type": "code",
      "metadata": {
        "id": "DAh2f1aBHrVO",
        "colab_type": "code",
        "colab": {}
      },
      "source": [
        "directory = '/content/drive/My Drive/Colab Notebooks/Project1/valid/'\n",
        "valid_list=[]\n",
        "for path, dirs, files in os.walk(directory):\n",
        "    for file in files:\n",
        "      img = path +'/' + file\n",
        "      img_rd = cv2.imread(img)\n",
        "      image = process_image(img_rd,300)\n",
        "      valid_list.append(image)\n",
        "      if path == '/content/drive/My Drive/Colab Notebooks/Project1/valid/tabletennis':\n",
        "        y[idx_y] = 1\n",
        "#        print(idx_y, path +'/' + file)\n",
        "      idx_y += 1"
      ],
      "execution_count": 0,
      "outputs": []
    },
    {
      "cell_type": "code",
      "metadata": {
        "id": "16GsjZKAH_Cs",
        "colab_type": "code",
        "colab": {}
      },
      "source": [
        "img_list = train_list + valid_list\n",
        "X = np.array(img_list)"
      ],
      "execution_count": 0,
      "outputs": []
    },
    {
      "cell_type": "code",
      "metadata": {
        "id": "p5owjeKcGl8c",
        "colab_type": "code",
        "outputId": "22a06ac3-aa57-4ffc-94c1-b5ce000b0379",
        "colab": {
          "base_uri": "https://localhost:8080/",
          "height": 34
        }
      },
      "source": [
        "X_train, X_test, y_train, y_test = train_test_split(X, y, test_size=0.2, random_state=21, )\n",
        "print('X_train: ',X_train.shape, '\\ty_train: ', y_train.shape, 'X_test: ',X_test.shape, '\\ty_train: ',y_test.shape)"
      ],
      "execution_count": 11,
      "outputs": [
        {
          "output_type": "stream",
          "text": [
            "X_train:  (770, 300, 300, 3) \ty_train:  (770,) X_test:  (193, 300, 300, 3) \ty_train:  (193,)\n"
          ],
          "name": "stdout"
        }
      ]
    },
    {
      "cell_type": "markdown",
      "metadata": {
        "id": "5EnbdcxBXEGY",
        "colab_type": "text"
      },
      "source": [
        "## Classification Models"
      ]
    },
    {
      "cell_type": "code",
      "metadata": {
        "id": "7pxuH5LRmzhJ",
        "colab_type": "code",
        "outputId": "80b610e9-1a94-4ab2-cb9f-fe0285e8045b",
        "colab": {
          "base_uri": "https://localhost:8080/",
          "height": 34
        }
      },
      "source": [
        "X_train = X_train.reshape(770,270000)\n",
        "X_test = X_test.reshape(193,270000)\n",
        "print('X_train: ',X_train.shape, '\\ty_train: ', y_train.shape, '\\tX_test: ',X_test.shape, '\\ty_test: ',y_test.shape)"
      ],
      "execution_count": 12,
      "outputs": [
        {
          "output_type": "stream",
          "text": [
            "X_train:  (770, 270000) \ty_train:  (770,) \tX_test:  (193, 270000) \ty_test:  (193,)\n"
          ],
          "name": "stdout"
        }
      ]
    },
    {
      "cell_type": "markdown",
      "metadata": {
        "id": "XE6XSaEqCgiH",
        "colab_type": "text"
      },
      "source": [
        "### SDG Classifier"
      ]
    },
    {
      "cell_type": "code",
      "metadata": {
        "id": "lyh5zWSMdPxh",
        "colab_type": "code",
        "outputId": "8fb50421-e966-49c6-98a1-a0ea23449880",
        "colab": {
          "base_uri": "https://localhost:8080/",
          "height": 34
        }
      },
      "source": [
        "from sklearn.linear_model import SGDClassifier\n",
        "\n",
        "sgd_clf = SGDClassifier(alpha=0.1,max_iter= 1000, tol=1e-03,validation_fraction=0.4, random_state=21)\n",
        "sgd_clf.fit(X_train, y_train)\n",
        "\n",
        "y_pred = sgd_clf.predict(X_test)\n",
        "eval(y_test, y_pred)"
      ],
      "execution_count": 13,
      "outputs": [
        {
          "output_type": "stream",
          "text": [
            "F1 Score:  0.73 \tAccuracy:  0.91 \tPrecison:  0.66 \tRecall:  0.82\n"
          ],
          "name": "stdout"
        }
      ]
    },
    {
      "cell_type": "code",
      "metadata": {
        "id": "95XViJG1S_Kr",
        "colab_type": "code",
        "outputId": "caff991e-6ef3-497b-b2da-1d7981302a48",
        "colab": {
          "base_uri": "https://localhost:8080/",
          "height": 51
        }
      },
      "source": [
        "confusion_matrix(y_test, y_pred)"
      ],
      "execution_count": 14,
      "outputs": [
        {
          "output_type": "execute_result",
          "data": {
            "text/plain": [
              "array([[153,  12],\n",
              "       [  5,  23]])"
            ]
          },
          "metadata": {
            "tags": []
          },
          "execution_count": 14
        }
      ]
    },
    {
      "cell_type": "code",
      "metadata": {
        "id": "q35yNeqcQJfw",
        "colab_type": "code",
        "outputId": "a1beb03e-5bc5-49d9-d893-7ad516bc34cd",
        "colab": {
          "base_uri": "https://localhost:8080/",
          "height": 312
        }
      },
      "source": [
        "# Display Precision-Recall Curve\n",
        "y_score = sgd_clf.decision_function(X_test)\n",
        "average_precision = average_precision_score(y_test, y_score)\n",
        "disp = plot_precision_recall_curve(sgd_clf, X_test, y_test)\n",
        "disp.ax_.set_title('SDG Precision-Recall curve: '\n",
        "                   'AP={0:0.2f}'.format(average_precision))\n",
        "#save_fig(\"SDG-Precsion-Recall-Curve\")"
      ],
      "execution_count": 15,
      "outputs": [
        {
          "output_type": "execute_result",
          "data": {
            "text/plain": [
              "Text(0.5, 1.0, 'SDG Precision-Recall curve: AP=0.70')"
            ]
          },
          "metadata": {
            "tags": []
          },
          "execution_count": 15
        },
        {
          "output_type": "display_data",
          "data": {
            "image/png": "[encoded data removed]",
            "text/plain": [
              "<Figure size 432x288 with 1 Axes>"
            ]
          },
          "metadata": {
            "tags": [],
            "needs_background": "light"
          }
        }
      ]
    },
    {
      "cell_type": "markdown",
      "metadata": {
        "id": "rSpXXLgFCm7C",
        "colab_type": "text"
      },
      "source": [
        "### Single Perceptron Classifier"
      ]
    },
    {
      "cell_type": "code",
      "metadata": {
        "id": "qx1tYJLPBvAm",
        "colab_type": "code",
        "outputId": "17481ec4-861b-47ff-887e-e292373478a9",
        "colab": {
          "base_uri": "https://localhost:8080/",
          "height": 34
        }
      },
      "source": [
        "from sklearn.linear_model import Perceptron\n",
        "\n",
        "per_clf = Perceptron(max_iter=1000, tol=1e-3, random_state=21)\n",
        "per_clf.fit(X_train, y_train)\n",
        "\n",
        "y_pred = per_clf.predict(X_test)\n",
        "eval(y_test, y_pred)"
      ],
      "execution_count": 16,
      "outputs": [
        {
          "output_type": "stream",
          "text": [
            "F1 Score:  0.73 \tAccuracy:  0.91 \tPrecison:  0.66 \tRecall:  0.82\n"
          ],
          "name": "stdout"
        }
      ]
    },
    {
      "cell_type": "code",
      "metadata": {
        "id": "BzbJPiqxSy0P",
        "colab_type": "code",
        "outputId": "d3eb12f8-39a4-4107-ec74-d86c9d98354c",
        "colab": {
          "base_uri": "https://localhost:8080/",
          "height": 51
        }
      },
      "source": [
        "confusion_matrix(y_test, y_pred)"
      ],
      "execution_count": 17,
      "outputs": [
        {
          "output_type": "execute_result",
          "data": {
            "text/plain": [
              "array([[153,  12],\n",
              "       [  5,  23]])"
            ]
          },
          "metadata": {
            "tags": []
          },
          "execution_count": 17
        }
      ]
    },
    {
      "cell_type": "code",
      "metadata": {
        "id": "lcS90Oydcqyf",
        "colab_type": "code",
        "outputId": "fad17fad-5711-416c-d06a-14db08e3c2a1",
        "colab": {
          "base_uri": "https://localhost:8080/",
          "height": 312
        }
      },
      "source": [
        "# Display Precision-Recall Curve\n",
        "y_score = per_clf.decision_function(X_test)\n",
        "average_precision = average_precision_score(y_test, y_score)\n",
        "disp = plot_precision_recall_curve(per_clf, X_test, y_test)\n",
        "disp.ax_.set_title('Perceptron Precision-Recall curve: '\n",
        "                   'AP={0:0.2f}'.format(average_precision))\n",
        "#save_fig(\"Perceptron-Precsion-Recall-Curve\")"
      ],
      "execution_count": 18,
      "outputs": [
        {
          "output_type": "execute_result",
          "data": {
            "text/plain": [
              "Text(0.5, 1.0, 'Perceptron Precision-Recall curve: AP=0.70')"
            ]
          },
          "metadata": {
            "tags": []
          },
          "execution_count": 18
        },
        {
          "output_type": "display_data",
          "data": {
            "image/png": "[encoded data removed]",
            "text/plain": [
              "<Figure size 432x288 with 1 Axes>"
            ]
          },
          "metadata": {
            "tags": [],
            "needs_background": "light"
          }
        }
      ]
    },
    {
      "cell_type": "markdown",
      "metadata": {
        "id": "KbtungshCxOC",
        "colab_type": "text"
      },
      "source": [
        "### Multi-Perceptron Classifier"
      ]
    },
    {
      "cell_type": "code",
      "metadata": {
        "id": "LwASzAtRCj-v",
        "colab_type": "code",
        "outputId": "6828dd5d-d555-442a-dd01-4702c85f39af",
        "colab": {
          "base_uri": "https://localhost:8080/",
          "height": 34
        }
      },
      "source": [
        "from sklearn.neural_network import MLPClassifier\n",
        "\n",
        "#Default settings create 1 hidden layer with 600 neurons\n",
        "mlp_clf = MLPClassifier(hidden_layer_sizes=(300,))\n",
        "mlp_clf.fit(X_train, y_train)\n",
        "\n",
        "y_pred = mlp_clf.predict(X_test)\n",
        "eval(y_test, y_pred)"
      ],
      "execution_count": 19,
      "outputs": [
        {
          "output_type": "stream",
          "text": [
            "F1 Score:  0.66 \tAccuracy:  0.88 \tPrecison:  0.55 \tRecall:  0.82\n"
          ],
          "name": "stdout"
        }
      ]
    },
    {
      "cell_type": "code",
      "metadata": {
        "id": "2BpfELfEmNnq",
        "colab_type": "code",
        "outputId": "0aa0a680-d00f-4d4d-9d8e-894c3974c7cc",
        "colab": {
          "base_uri": "https://localhost:8080/",
          "height": 51
        }
      },
      "source": [
        "confusion_matrix(y_test, y_pred)"
      ],
      "execution_count": 20,
      "outputs": [
        {
          "output_type": "execute_result",
          "data": {
            "text/plain": [
              "array([[146,  19],\n",
              "       [  5,  23]])"
            ]
          },
          "metadata": {
            "tags": []
          },
          "execution_count": 20
        }
      ]
    },
    {
      "cell_type": "code",
      "metadata": {
        "id": "ADEYJjSCmOT3",
        "colab_type": "code",
        "outputId": "c59d6876-7e80-425f-b83d-fdef32f7a94d",
        "colab": {
          "base_uri": "https://localhost:8080/",
          "height": 314
        }
      },
      "source": [
        "# Display Precision-Recall Curve\n",
        "y_score = per_clf.decision_function(X_test)\n",
        "average_precision = average_precision_score(y_test, y_score)\n",
        "disp = plot_precision_recall_curve(per_clf, X_test, y_test)\n",
        "disp.ax_.set_title('MLP Precision-Recall curve: '\n",
        "                   'AP={0:0.2f}'.format(average_precision))\n",
        "save_fig(\"MLP-Precsion-Recall-Curve\")"
      ],
      "execution_count": 21,
      "outputs": [
        {
          "output_type": "stream",
          "text": [
            "Saving figure MLP-Precsion-Recall-Curve\n"
          ],
          "name": "stdout"
        },
        {
          "output_type": "display_data",
          "data": {
            "image/png": "[encoded data removed]",
            "text/plain": [
              "<Figure size 432x288 with 1 Axes>"
            ]
          },
          "metadata": {
            "tags": [],
            "needs_background": "light"
          }
        }
      ]
    },
    {
      "cell_type": "code",
      "metadata": {
        "id": "oo2K46k40jsD",
        "colab_type": "code",
        "outputId": "06b0205a-6b8f-41e3-8ab4-8f2d75eea8b1",
        "colab": {
          "base_uri": "https://localhost:8080/",
          "height": 34
        }
      },
      "source": [
        "X_train.shape, X_test.shape"
      ],
      "execution_count": 22,
      "outputs": [
        {
          "output_type": "execute_result",
          "data": {
            "text/plain": [
              "((770, 270000), (193, 270000))"
            ]
          },
          "metadata": {
            "tags": []
          },
          "execution_count": 22
        }
      ]
    },
    {
      "cell_type": "markdown",
      "metadata": {
        "id": "eA3SuKg7WpOA",
        "colab_type": "text"
      },
      "source": [
        "### Sequential Neural Network\n"
      ]
    },
    {
      "cell_type": "code",
      "metadata": {
        "id": "QztHUFsG1TdF",
        "colab_type": "code",
        "colab": {
          "base_uri": "https://localhost:8080/",
          "height": 51
        },
        "outputId": "4097cdcd-2b12-40ec-be68-bb14fe5a160a"
      },
      "source": [
        "# Reshape input to (,300,300), triple the size of y to match X\n",
        "# Add a validation set (X_test/y_test)\n",
        "X_train = X_train.reshape(2310,300,300)\n",
        "X_test = X_test.reshape(579,300,300)\n",
        "\n",
        "y_test_double = np.append(y_test, y_test)\n",
        "y_test = np.append(y_test_double, y_test)\n",
        "\n",
        "y_train_double = np.append(y_train, y_train)\n",
        "y_train = np.append(y_train_double, y_train)\n",
        "\n",
        "y_train = y_train.astype(int)\n",
        "#y_valid = y_valid.astype(int)\n",
        "\n",
        "#X_valid = X_test\n",
        "#y_valid = y_test\n",
        "\n",
        "print ('Train: X, y ',X_train.shape,X_train.dtype, y_train.shape,y_train.dtype,'\\nTest: X, y',X_test.shape, X_test.dtype, y_test.shape, y_test.dtype)"
      ],
      "execution_count": 26,
      "outputs": [
        {
          "output_type": "stream",
          "text": [
            "Train: X, y  (2310, 300, 300) uint8 (20790,) int64 \n",
            "Test: X, y (579, 300, 300) uint8 (5211,) float64\n"
          ],
          "name": "stdout"
        }
      ]
    },
    {
      "cell_type": "code",
      "metadata": {
        "id": "v9Gwakgq2KKn",
        "colab_type": "code",
        "outputId": "7537451c-0617-400d-e6cc-2c77acd3aa32",
        "colab": {
          "base_uri": "https://localhost:8080/",
          "height": 69
        }
      },
      "source": [
        "print ('Train: X, y ',X_train.shape,X_train.dtype, y_train.shape,y_train.dtype,'\\nValid: X, y',X_valid.shape, X_valid.dtype, y_valid.shape,y_valid.dtype,\n",
        "       '\\nTest: X, y',X_test.shape, X_test.dtype, y_test.shape, y_test.dtype)"
      ],
      "execution_count": 0,
      "outputs": [
        {
          "output_type": "stream",
          "text": [
            "Train: X, y  (2310, 300, 300) uint8 (2310,) int64 \n",
            "Valid: X, y (579, 300, 300) uint8 (579,) float64 \n",
            "Test: X, y (579, 300, 300) uint8 (579,) float64\n"
          ],
          "name": "stdout"
        }
      ]
    },
    {
      "cell_type": "code",
      "metadata": {
        "id": "5CWquaclCvXF",
        "colab_type": "code",
        "colab": {}
      },
      "source": [
        "model = keras.models.Sequential()\n",
        "model.add(keras.layers.Flatten(input_shape=[300, 300]))\n",
        "model.add(keras.layers.Dense(600, activation=\"relu\"))\n",
        "model.add(keras.layers.Dense(200, activation=\"relu\"))\n",
        "model.add(keras.layers.Dense(3, activation=\"sigmoid\" ))"
      ],
      "execution_count": 0,
      "outputs": []
    },
    {
      "cell_type": "code",
      "metadata": {
        "id": "_mFgykqy-9qb",
        "colab_type": "code",
        "outputId": "3bee85d5-b331-4d6a-a638-17e8d9a309be",
        "colab": {
          "base_uri": "https://localhost:8080/",
          "height": 436
        }
      },
      "source": [
        "model.compile(loss=\"sparse_categorical_crossentropy\",\n",
        "              optimizer=keras.optimizers.SGD(lr=1e-3),\n",
        "              metrics=[\"accuracy\"])\n",
        "\n",
        "checkpoint_cb = keras.callbacks.ModelCheckpoint(\"ANN_model.h5\", save_best_only=True)\n",
        "early_stopping_cb = keras.callbacks.EarlyStopping(patience=10,\n",
        "                                                  restore_best_weights=True)\n",
        "\n",
        "history = model.fit(X_train, y_train, epochs=50,\n",
        "                    validation_data=(X_valid, y_valid),\n",
        "                    callbacks=[checkpoint_cb, early_stopping_cb])\n",
        "\n",
        "mse_test = model.evaluate(X_test, y_test)"
      ],
      "execution_count": 0,
      "outputs": [
        {
          "output_type": "stream",
          "text": [
            "Epoch 1/50\n",
            "73/73 [==============================] - 16s 217ms/step - loss: 3.2050 - accuracy: 0.8442 - val_loss: 3.7831 - val_accuracy: 0.8083\n",
            "Epoch 2/50\n",
            "73/73 [==============================] - 15s 203ms/step - loss: 3.2048 - accuracy: 0.8442 - val_loss: 3.7831 - val_accuracy: 0.8083\n",
            "Epoch 3/50\n",
            "73/73 [==============================] - 14s 198ms/step - loss: 3.2048 - accuracy: 0.8442 - val_loss: 3.7831 - val_accuracy: 0.8083\n",
            "Epoch 4/50\n",
            "73/73 [==============================] - 14s 196ms/step - loss: 3.2048 - accuracy: 0.8442 - val_loss: 3.7831 - val_accuracy: 0.8083\n",
            "Epoch 5/50\n",
            "73/73 [==============================] - 14s 195ms/step - loss: 3.2048 - accuracy: 0.8442 - val_loss: 3.7831 - val_accuracy: 0.8083\n",
            "Epoch 6/50\n",
            "73/73 [==============================] - 14s 196ms/step - loss: 3.2048 - accuracy: 0.8442 - val_loss: 3.7831 - val_accuracy: 0.8083\n",
            "Epoch 7/50\n",
            "73/73 [==============================] - 14s 197ms/step - loss: 3.2048 - accuracy: 0.8442 - val_loss: 3.7831 - val_accuracy: 0.8083\n",
            "Epoch 8/50\n",
            "73/73 [==============================] - 14s 198ms/step - loss: 3.2048 - accuracy: 0.8442 - val_loss: 3.7831 - val_accuracy: 0.8083\n",
            "Epoch 9/50\n",
            "73/73 [==============================] - 15s 199ms/step - loss: 3.2048 - accuracy: 0.8442 - val_loss: 3.7831 - val_accuracy: 0.8083\n",
            "Epoch 10/50\n",
            "73/73 [==============================] - 14s 196ms/step - loss: 3.2048 - accuracy: 0.8442 - val_loss: 3.7831 - val_accuracy: 0.8083\n",
            "Epoch 11/50\n",
            "73/73 [==============================] - 14s 197ms/step - loss: 3.2048 - accuracy: 0.8442 - val_loss: 3.7831 - val_accuracy: 0.8083\n",
            "19/19 [==============================] - 1s 79ms/step - loss: 3.7831 - accuracy: 0.8083\n"
          ],
          "name": "stdout"
        }
      ]
    },
    {
      "cell_type": "markdown",
      "metadata": {
        "id": "CVhrsQ5HNMs4",
        "colab_type": "text"
      },
      "source": [
        ""
      ]
    },
    {
      "cell_type": "code",
      "metadata": {
        "id": "9qTosg0Iszl7",
        "colab_type": "code",
        "outputId": "a6629826-cd32-4461-95e3-dc48d526b436",
        "colab": {
          "base_uri": "https://localhost:8080/",
          "height": 295
        }
      },
      "source": [
        "model.save(\"ANN_model.h5\")\n",
        "model.summary()"
      ],
      "execution_count": 0,
      "outputs": [
        {
          "output_type": "stream",
          "text": [
            "Model: \"sequential_6\"\n",
            "_________________________________________________________________\n",
            "Layer (type)                 Output Shape              Param #   \n",
            "=================================================================\n",
            "flatten_6 (Flatten)          (None, 90000)             0         \n",
            "_________________________________________________________________\n",
            "dense_18 (Dense)             (None, 600)               54000600  \n",
            "_________________________________________________________________\n",
            "dense_19 (Dense)             (None, 200)               120200    \n",
            "_________________________________________________________________\n",
            "dense_20 (Dense)             (None, 3)                 603       \n",
            "=================================================================\n",
            "Total params: 54,121,403\n",
            "Trainable params: 54,121,403\n",
            "Non-trainable params: 0\n",
            "_________________________________________________________________\n"
          ],
          "name": "stdout"
        }
      ]
    },
    {
      "cell_type": "code",
      "metadata": {
        "id": "BLu9YHYsDoic",
        "colab_type": "code",
        "outputId": "4fbb7175-4c36-4eed-8c21-28bb31619733",
        "colab": {
          "base_uri": "https://localhost:8080/",
          "height": 533
        }
      },
      "source": [
        "keras.utils.plot_model(model, \"image_model.png\", show_shapes=True)"
      ],
      "execution_count": 0,
      "outputs": [
        {
          "output_type": "execute_result",
          "data": {
            "image/png": "[encoded data removed]",
            "text/plain": [
              "<IPython.core.display.Image object>"
            ]
          },
          "metadata": {
            "tags": []
          },
          "execution_count": 68
        }
      ]
    },
    {
      "cell_type": "code",
      "metadata": {
        "id": "GyFm7YChAsvp",
        "colab_type": "code",
        "outputId": "7918f53c-5aae-4353-b8e1-eae5cccb78e0",
        "colab": {
          "base_uri": "https://localhost:8080/",
          "height": 52
        }
      },
      "source": [
        "model.evaluate(X_test, y_test)"
      ],
      "execution_count": 0,
      "outputs": [
        {
          "output_type": "stream",
          "text": [
            "19/19 [==============================] - 2s 79ms/step - loss: 3.7831 - accuracy: 0.8083\n"
          ],
          "name": "stdout"
        },
        {
          "output_type": "execute_result",
          "data": {
            "text/plain": [
              "[3.783144950866699, 0.8082901835441589]"
            ]
          },
          "metadata": {
            "tags": []
          },
          "execution_count": 86
        }
      ]
    },
    {
      "cell_type": "code",
      "metadata": {
        "id": "r4Dd0irKNDV9",
        "colab_type": "code",
        "outputId": "e6677aa4-7002-4682-afc2-7ed5158361b5",
        "colab": {
          "base_uri": "https://localhost:8080/",
          "height": 463
        }
      },
      "source": [
        "pd.DataFrame(history.history).plot(figsize=(10, 7))\n",
        "plt.grid(True)\n",
        "#plt.gca().set_ylim(0, 1)\n",
        "plt.show()\n",
        "save_fig(\"Seq-NN-50\")"
      ],
      "execution_count": 0,
      "outputs": [
        {
          "output_type": "display_data",
          "data": {
            "image/png": "[encoded data removed]",
            "text/plain": [
              "<Figure size 720x504 with 1 Axes>"
            ]
          },
          "metadata": {
            "tags": [],
            "needs_background": "light"
          }
        },
        {
          "output_type": "stream",
          "text": [
            "Saving figure Seq-NN-50\n"
          ],
          "name": "stdout"
        },
        {
          "output_type": "display_data",
          "data": {
            "text/plain": [
              "<Figure size 432x288 with 0 Axes>"
            ]
          },
          "metadata": {
            "tags": []
          }
        }
      ]
    },
    {
      "cell_type": "code",
      "metadata": {
        "colab_type": "code",
        "id": "FvODivlQ-4r6",
        "outputId": "f23553b4-2bfd-46ad-96c0-bc85b159036c",
        "colab": {
          "base_uri": "https://localhost:8080/",
          "height": 330
        }
      },
      "source": [
        "plt.plot(history.history['accuracy'])\n",
        "plt.plot(history.history['val_accuracy'])\n",
        "plt.title('model accuracy')\n",
        "plt.ylabel('accuracy')\n",
        "plt.xlabel('epoch')\n",
        "plt.legend(['train', 'test'], loc='lower right')\n",
        "plt.show()\n",
        "save_fig(\"Seq-NN-Acc-50\")"
      ],
      "execution_count": 0,
      "outputs": [
        {
          "output_type": "display_data",
          "data": {
            "image/png": "[encoded data removed]",
            "text/plain": [
              "<Figure size 432x288 with 1 Axes>"
            ]
          },
          "metadata": {
            "tags": [],
            "needs_background": "light"
          }
        },
        {
          "output_type": "stream",
          "text": [
            "Saving figure Seq-NN-Acc-50\n"
          ],
          "name": "stdout"
        },
        {
          "output_type": "display_data",
          "data": {
            "text/plain": [
              "<Figure size 432x288 with 0 Axes>"
            ]
          },
          "metadata": {
            "tags": []
          }
        }
      ]
    },
    {
      "cell_type": "code",
      "metadata": {
        "colab_type": "code",
        "id": "v8dj8ghH_R2S",
        "outputId": "7fd69d34-c7e3-4a36-f7d3-7e251c747ccd",
        "colab": {
          "base_uri": "https://localhost:8080/",
          "height": 330
        }
      },
      "source": [
        "plt.plot(history.history['loss'])\n",
        "plt.plot(history.history['val_loss'])\n",
        "plt.title('model loss')\n",
        "plt.ylabel('loss')\n",
        "plt.xlabel('epoch')\n",
        "plt.legend(['train', 'test'], loc='upper right')\n",
        "plt.show()\n",
        "save_fig(\"Seq-NN-Loss-50\")"
      ],
      "execution_count": 0,
      "outputs": [
        {
          "output_type": "display_data",
          "data": {
            "image/png": "[encoded data removed]",
            "text/plain": [
              "<Figure size 432x288 with 1 Axes>"
            ]
          },
          "metadata": {
            "tags": [],
            "needs_background": "light"
          }
        },
        {
          "output_type": "stream",
          "text": [
            "Saving figure Seq-NN-Loss-50\n"
          ],
          "name": "stdout"
        },
        {
          "output_type": "display_data",
          "data": {
            "text/plain": [
              "<Figure size 432x288 with 0 Axes>"
            ]
          },
          "metadata": {
            "tags": []
          }
        }
      ]
    },
    {
      "cell_type": "markdown",
      "metadata": {
        "id": "b-DGgRcR286Z",
        "colab_type": "text"
      },
      "source": [
        "### Extract images from Instagram"
      ]
    },
    {
      "cell_type": "code",
      "metadata": {
        "id": "XpZoGbgu21uN",
        "colab_type": "code",
        "colab": {}
      },
      "source": [
        "from selenium import webdriver\n",
        "from bs4 import BeautifulSoup as bs\n",
        "import time\n",
        "import re\n",
        "from urllib.request import urlopen\n",
        "import json\n",
        "from pandas.io.json import json_normalize\n",
        "import pandas as pd, numpy as np"
      ],
      "execution_count": 0,
      "outputs": []
    },
    {
      "cell_type": "code",
      "metadata": {
        "id": "r-ZlbddZ26ba",
        "colab_type": "code",
        "colab": {}
      },
      "source": [
        "hashtag='sports'\n",
        "browser = webdriver.Chrome('/Users/pranayraqo/Downloads/chromedriver 2')\n",
        "browser.get('https://www.instagram.com/explore/tags/'+hashtag)\n",
        "Pagelength = browser.execute_script(\"window.scrollTo(0, document.body.scrollHeight/5.0);\")"
      ],
      "execution_count": 0,
      "outputs": []
    },
    {
      "cell_type": "code",
      "metadata": {
        "id": "FEYVofyE3E3F",
        "colab_type": "code",
        "colab": {}
      },
      "source": [
        "#Extract links from hashtag page\n",
        "links=[]\n",
        "source = browser.page_source\n",
        "data=bs(source, 'html.parser')\n",
        "body = data.find('body')\n",
        "script = body.find('script', text=lambda t: t.startswith('window._sharedData'))\n",
        "page_json = script.text.split(' = ', 1)[1].rstrip(';')\n",
        "data = json.loads(page_json)\n",
        "for link in data['entry_data']['TagPage'][0]['graphql']['hashtag']['edge_hashtag_to_media']['edges']:\n",
        "    links.append('https://www.instagram.com'+'/p/'+link['node']['shortcode']+'/')"
      ],
      "execution_count": 0,
      "outputs": []
    },
    {
      "cell_type": "code",
      "metadata": {
        "id": "k4wqwkYR3LPU",
        "colab_type": "code",
        "colab": {}
      },
      "source": [
        "link.to_csv(r'/Users/pranayrao/Downloads/insta_images/images.csv', index = True)"
      ],
      "execution_count": 0,
      "outputs": []
    },
    {
      "cell_type": "code",
      "metadata": {
        "id": "iod38CAM2uiO",
        "colab_type": "code",
        "colab": {}
      },
      "source": [
        "import pandas as pd \n",
        "import urllib.request \n",
        "\n",
        "def url_to_jpg(i,url,file_path):\n",
        "\n",
        "    filename = 'image-{}'.format(i)\n",
        "    fullpath = '{}{}'.format(file_path,filename)\n",
        "    urllib.request.urlretrieve(url,fullpath)\n",
        "\n",
        "    print('{} saved.'.format(filename))\n",
        "    return None\n",
        "\n",
        "file_name = 'insta_images.csv'\n",
        "file_path = '/Users/pranayrao/Downloads/'\n",
        "\n",
        "urls = pd.read_csv(file_name)\n",
        "\n",
        "for i,url in enumerate(urls.values):\n",
        "    url_to_jpg(i,url[0],file_path)"
      ],
      "execution_count": 0,
      "outputs": []
    },
    {
      "cell_type": "code",
      "metadata": {
        "id": "lbVN6NzUC_LK",
        "colab_type": "code",
        "colab": {}
      },
      "source": [
        "import pandas as pd \n",
        "import urllib.request \n",
        "\n",
        "def url_to_jpg(i,url,file_path):\n",
        "\n",
        "    filename = 'image-{}'.format(i)\n",
        "    fullpath = '{}{}'.format(file_path,filename)\n",
        "    urllib.request.urlretrieve(url,fullpath)\n",
        "\n",
        "    print('{} saved.'.format(filename))\n",
        "    return None\n",
        "\n",
        "file_name = 'image_tt.csv'\n",
        "file_path = '/Users/pranayrao/Downloads/'\n",
        "\n",
        "urls = pd.read_csv(file_name)\n",
        "\n",
        "for i,url in enumerate(urls.values):\n",
        "    url_to_jpg(i,url[0],file_path)"
      ],
      "execution_count": 0,
      "outputs": []
    },
    {
      "cell_type": "markdown",
      "metadata": {
        "id": "bPE-kXx4W92l",
        "colab_type": "text"
      },
      "source": [
        "## Convolution Neural Network"
      ]
    },
    {
      "cell_type": "code",
      "metadata": {
        "id": "hVdwjLeXW6gi",
        "colab_type": "code",
        "colab": {}
      },
      "source": [
        "import keras\n",
        "import numpy as np\n",
        "import pandas as pd\n",
        "import random\n",
        "from keras.preprocessing.image import ImageDataGenerator\n",
        "from keras.models import Sequential\n",
        "from keras.layers import Dense, Dropout, Activation, Flatten\n",
        "from keras.layers import Conv2D, MaxPooling2D\n",
        "import os\n",
        "import cv2\n",
        "from matplotlib import pyplot as plt"
      ],
      "execution_count": 0,
      "outputs": []
    },
    {
      "cell_type": "code",
      "metadata": {
        "id": "uiSlXvDWW6XK",
        "colab_type": "code",
        "colab": {}
      },
      "source": [
        "#Predict a single image\n",
        "def process_image(img, desired_size = 128):\n",
        "    height,width,ch = img.shape\n",
        "    ratio = desired_size/height\n",
        "    width = int(width*ratio) if (width*ratio)<300 else 300\n",
        "    height =  int(desired_size)\n",
        "    dimensions = (width,height)\n",
        "    image = cv2.resize(img,dimensions,interpolation=cv2.INTER_AREA)    \n",
        "    # Pad bottom with zeros to desired size otherwise crop to desired size\n",
        "    delta_w = (desired_size - width) if (desired_size - width) > 0 else 0\n",
        "    left, right = 0, delta_w\n",
        "    top, bottom = 0, 0\n",
        "    color = [0, 0, 0]\n",
        "    image = cv2.copyMakeBorder(image, top, bottom, left, right, cv2.BORDER_CONSTANT, value=color)\n",
        "    dimensions = (desired_size, desired_size)\n",
        "    image = cv2.resize(img,dimensions,interpolation=cv2.INTER_AREA)\n",
        "    return image\n",
        "\n",
        "#Display an RGB image in the proper size\n",
        "def show_image(file,size):\n",
        "    img = cv2.imread(file)\n",
        "    image = process_image(img,size)\n",
        "    #CV2 reads an image in BGR format. We need to convert it to RGB\n",
        "    b,g,r = cv2.split(image)       # get b,g,r\n",
        "    rgb_img = cv2.merge([r,g,b])     # switch it to rgb\n",
        "    plt.imshow(rgb_img)\n",
        "    return\n",
        "\n",
        "#Show a list of keys \n",
        "def getList(dict): \n",
        "    return dict.keys()"
      ],
      "execution_count": 0,
      "outputs": []
    },
    {
      "cell_type": "code",
      "metadata": {
        "id": "81IMpBATW5wC",
        "colab_type": "code",
        "colab": {}
      },
      "source": [
        "train_datagen = ImageDataGenerator(rescale=1./255)\n",
        "train_generator = train_datagen.flow_from_directory(\n",
        "    directory=\"./train/\",\n",
        "    target_size=(300, 300),\n",
        "    color_mode=\"rgb\",\n",
        "    batch_size=6,\n",
        "    class_mode=\"categorical\",\n",
        "    shuffle=True,\n",
        "    seed=4\n",
        ")\n",
        "\n",
        "valid_datagen = ImageDataGenerator(rescale=1./255)\n",
        "valid_generator = valid_datagen.flow_from_directory(\n",
        "    directory= \"./valid/\",\n",
        "    target_size=(300, 300),\n",
        "    color_mode=\"rgb\",\n",
        "    batch_size=2,\n",
        "    class_mode=\"categorical\",\n",
        "    shuffle=True,\n",
        "    seed=42\n",
        ")"
      ],
      "execution_count": 0,
      "outputs": []
    },
    {
      "cell_type": "code",
      "metadata": {
        "id": "XvOWQ7gVj7nr",
        "colab_type": "code",
        "colab": {}
      },
      "source": [
        "model = Sequential()\n",
        "\n",
        "model.add(Conv2D(32, (4, 4), padding='same', input_shape=(300,300,3)))\n",
        "model.add(Activation('relu'))\n",
        "\n",
        "model.add(Conv2D(32, (3, 3)))\n",
        "model.add(Activation('relu'))\n",
        "\n",
        "model.add(MaxPooling2D(pool_size=(2, 2)))\n",
        "model.add(Dropout(rate=0.35))\n",
        "\n",
        "model.add(Conv2D(64, (4, 4), padding='same'))\n",
        "model.add(Activation('relu'))\n",
        "\n",
        "model.add(Conv2D(64, (3, 3)))\n",
        "model.add(Activation('relu'))\n",
        "\n",
        "model.add(MaxPooling2D(pool_size=(2, 2)))\n",
        "model.add(Dropout(rate=0.35))\n",
        "\n",
        "model.add(Flatten())\n",
        "\n",
        "model.add(Dense(512))\n",
        "model.add(Activation('relu'))\n",
        "model.add(Dropout(rate=0.35))\n",
        "\n",
        "model.add(Dense(7))\n",
        "model.add(Activation('softmax'))\n",
        "\n",
        "model.summary()\n",
        "\n",
        "# initiate adam optimizer\n",
        "opt = keras.optimizers.adam(lr=0.0001)\n",
        "\n",
        "# Let's train the model using RMSprop\n",
        "model.compile(loss='categorical_crossentropy',\n",
        "              optimizer=opt,\n",
        "              metrics=['accuracy'])"
      ],
      "execution_count": 0,
      "outputs": []
    },
    {
      "cell_type": "code",
      "metadata": {
        "id": "Gcj0tw6YkC6w",
        "colab_type": "code",
        "colab": {}
      },
      "source": [
        "history = model.fit_generator(\n",
        "        train_generator,\n",
        "        steps_per_epoch=25,\n",
        "        epochs=50,\n",
        "        validation_data=valid_generator,\n",
        "        validation_steps=4)"
      ],
      "execution_count": 0,
      "outputs": []
    },
    {
      "cell_type": "code",
      "metadata": {
        "id": "g_qkloRHkaOs",
        "colab_type": "code",
        "colab": {}
      },
      "source": [
        "pd.DataFrame(history.history).plot(figsize=(10, 7))\n",
        "plt.grid(True)\n",
        "plt.title('Model Accuracy/Loss')\n",
        "plt.xlabel('epoch')\n",
        "plt.gca().set_ylim(0, 1.1)\n",
        "plt.show()\n",
        "save_fig(\"CNN-50-25\")"
      ],
      "execution_count": 0,
      "outputs": []
    },
    {
      "cell_type": "code",
      "metadata": {
        "id": "PVy9jg570R4j",
        "colab_type": "code",
        "colab": {}
      },
      "source": [
        "plt.plot(history.history['loss'])\n",
        "plt.plot(history.history['val_loss'])\n",
        "plt.title('model loss')\n",
        "plt.ylabel('loss')\n",
        "plt.xlabel('epoch')\n",
        "plt.legend(['train', 'test'], loc='upper right')\n",
        "plt.show()\n",
        "save_fig(\"CNN-Loss-50-25\")"
      ],
      "execution_count": 0,
      "outputs": []
    },
    {
      "cell_type": "code",
      "metadata": {
        "id": "MEkrHjMv0Rg2",
        "colab_type": "code",
        "colab": {}
      },
      "source": [
        "plt.plot(history.history['accuracy'])\n",
        "plt.plot(history.history['val_accuracy'])\n",
        "plt.title('model accuracy')\n",
        "plt.ylabel('accuracy')\n",
        "plt.xlabel('epoch')\n",
        "plt.legend(['train', 'test'], loc='lower right')\n",
        "plt.show()\n",
        "save_fig(\"CNN-Acc-50-25\")"
      ],
      "execution_count": 0,
      "outputs": []
    },
    {
      "cell_type": "code",
      "metadata": {
        "id": "1yXm678akxX-",
        "colab_type": "code",
        "colab": {}
      },
      "source": [
        "file = []\n",
        "file = [\"/30B1D5CF00000578-3422358-image-a-31_1454067469539.jpg\",\"/117722373-male-senior-badminton-single-player-hand-holds-white-shuttle-cock-ready-to-serve-forehand-with-racke.jpg\",\n",
        "        \"/13060572.jpeg\", \"/1498126455_957230_1498161853_noticia_normal.jpg\",\n",
        "        \"/images39.jpg\", \"/11082017_uwvolleyball_213726-780x520.jpg\",\n",
        "        \"/Men+Water+Polo+15th+FINA+World+Championships+osztgQ5Tirzx.jpg\"]\n",
        "\n",
        "label_map = (train_generator.class_indices)\n",
        "label_list = getList(label_map)\n"
      ],
      "execution_count": 0,
      "outputs": []
    },
    {
      "cell_type": "code",
      "metadata": {
        "id": "aEljQqGVkZvx",
        "colab_type": "code",
        "colab": {}
      },
      "source": [
        "indx = 0\n",
        "for label_loop in label_list:\n",
        "    dir_img =  './valid/' + label_loop + file[indx]\n",
        "    img = cv2.imread(dir_img)\n",
        "    image = process_image(img,300)\n",
        "    \n",
        "    #CV2 reads an image in BGR format. We need to convert it to RGB\n",
        "    b,g,r = cv2.split(image)       # get b,g,r\n",
        "    rgb_img = cv2.merge([r,g,b])     # switch it to rgb\n",
        "    img_rank4 = np.expand_dims(rgb_img/255, axis=0)\n",
        "    model.predict_classes(img_rank4)\n",
        "    y_pred = list(label_map.keys())[model.predict_classes(img_rank4)[0]]\n",
        "    print(indx,'Label: ' ,label_loop, '\\t\\tPrediction: ', y_pred)\n",
        "    indx += 1\n",
        "    "
      ],
      "execution_count": 0,
      "outputs": []
    },
    {
      "cell_type": "markdown",
      "metadata": {
        "id": "ReHYBC6YT0LS",
        "colab_type": "text"
      },
      "source": [
        "### Predicted correctly 6/7 validation images"
      ]
    },
    {
      "cell_type": "code",
      "metadata": {
        "id": "07emeXYHlYps",
        "colab_type": "code",
        "colab": {}
      },
      "source": [
        "# Build a list of files in the test directory\n",
        "directory = './test/'\n",
        "test_files=[];\n",
        "for path, dirs, files in os.walk(directory):\n",
        "    for file in files:\n",
        "        test_files.append(file)\n"
      ],
      "execution_count": 0,
      "outputs": []
    },
    {
      "cell_type": "code",
      "metadata": {
        "id": "9f8irWGxlYbn",
        "colab_type": "code",
        "colab": {}
      },
      "source": [
        "file_test_length = len(test_files)\n",
        "indx = 0\n",
        "#Read file, process file, arrange in RGB format, then predict based on CNN model\n",
        "for loop in range(file_test_length):\n",
        "    img = cv2.imread(directory+test_files[loop])\n",
        "    image = process_image(img,300)\n",
        "    #CV2 reads an image in BGR format. We need to convert it to RGB\n",
        "    b,g,r = cv2.split(image)       # get b,g,r\n",
        "    rgb_img = cv2.merge([r,g,b])     # switch it to rgb\n",
        "    img_rank4 = np.expand_dims(rgb_img/255, axis=0)\n",
        "    model.predict_classes(img_rank4)\n",
        "    y_pred = list(label_map.keys())[model.predict_classes(img_rank4)[0]]\n",
        "    print(loop,'File: ' ,test_files[loop], '\\t\\tPrediction: ', y_pred)\n",
        "    indx += 1"
      ],
      "execution_count": 0,
      "outputs": []
    },
    {
      "cell_type": "markdown",
      "metadata": {
        "id": "YzNshVt6Tb59",
        "colab_type": "text"
      },
      "source": [
        "### Predicted correctly 27/28 test images. "
      ]
    },
    {
      "cell_type": "code",
      "metadata": {
        "id": "K8XSt2t-kCtp",
        "colab_type": "code",
        "colab": {}
      },
      "source": [
        "show_image(directory+test_files[8],300)"
      ],
      "execution_count": 0,
      "outputs": []
    },
    {
      "cell_type": "markdown",
      "metadata": {
        "id": "K40cTWwuigpR",
        "colab_type": "text"
      },
      "source": [
        "## Saving the model"
      ]
    },
    {
      "cell_type": "code",
      "metadata": {
        "id": "wRIVl11QZwUI",
        "colab_type": "code",
        "colab": {}
      },
      "source": [
        "model.save('/content/drive/My Drive/Colab Notebooks/Project1/Model-50-25.h5')"
      ],
      "execution_count": 0,
      "outputs": []
    }
  ]
}