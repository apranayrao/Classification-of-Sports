{
  "nbformat": 4,
  "nbformat_minor": 0,
  "metadata": {
    "colab": {
      "name": "Final_DSP_Proj.ipynb",
      "provenance": [],
      "collapsed_sections": [
        "AncPqfCb4Jj2",
        "eddk71r3WLFJ",
        "illXgZ3NV37R",
        "F5Mwm9oWVcjE",
        "b-DGgRcR286Z"
      ],
      "toc_visible": true
    },
    "kernelspec": {
      "name": "python3",
      "display_name": "Python 3"
    }
  },
  "cells": [
    {
      "cell_type": "markdown",
      "metadata": {
        "id": "fbcq5-i6LSn3",
        "colab_type": "text"
      },
      "source": [
        "### Mount/Unmount Google Drive"
      ]
    },
    {
      "cell_type": "code",
      "metadata": {
        "id": "__l7H4B0URTm",
        "colab_type": "code",
        "colab": {
          "base_uri": "https://localhost:8080/",
          "height": 122
        },
        "outputId": "d23eafbf-d4a8-43e5-ad9e-6c72d92442d5"
      },
      "source": [
        "from google.colab import drive\n",
        "drive.mount('/content/drive')"
      ],
      "execution_count": 1,
      "outputs": [
        {
          "output_type": "stream",
          "text": [
            "Go to this URL in a browser: https://accounts.google.com/o/oauth2/auth?client_id=947318989803-6bn6qk8qdgf4n4g3pfee6491hc0brc4i.apps.googleusercontent.com&redirect_uri=urn%3aietf%3awg%3aoauth%3a2.0%3aoob&response_type=code&scope=email%20https%3a%2f%2fwww.googleapis.com%2fauth%2fdocs.test%20https%3a%2f%2fwww.googleapis.com%2fauth%2fdrive%20https%3a%2f%2fwww.googleapis.com%2fauth%2fdrive.photos.readonly%20https%3a%2f%2fwww.googleapis.com%2fauth%2fpeopleapi.readonly\n",
            "\n",
            "Enter your authorization code:\n",
            "··········\n",
            "Mounted at /content/drive\n"
          ],
          "name": "stdout"
        }
      ]
    },
    {
      "cell_type": "code",
      "metadata": {
        "id": "3XzQwJ8t8dcs",
        "colab_type": "code",
        "colab": {}
      },
      "source": [
        "drive.flush_and_unmount()"
      ],
      "execution_count": 0,
      "outputs": []
    },
    {
      "cell_type": "code",
      "metadata": {
        "id": "C0bnWTw4m9Ex",
        "colab_type": "code",
        "colab": {
          "base_uri": "https://localhost:8080/",
          "height": 34
        },
        "outputId": "cf54b2a9-4500-41e1-d40c-d6a004f12831"
      },
      "source": [
        "drive.mount(\"/content/drive\", force_remount=True)"
      ],
      "execution_count": 2,
      "outputs": [
        {
          "output_type": "stream",
          "text": [
            "Mounted at /content/drive\n"
          ],
          "name": "stdout"
        }
      ]
    },
    {
      "cell_type": "markdown",
      "metadata": {
        "id": "IzLNLcZwLqjN",
        "colab_type": "text"
      },
      "source": [
        "### Install/import packages and libraries"
      ]
    },
    {
      "cell_type": "code",
      "metadata": {
        "id": "niaKepxUYsyT",
        "colab_type": "code",
        "colab": {}
      },
      "source": [
        "import numpy as np\n",
        "import pandas as pd\n",
        "import random\n",
        "import os\n",
        "import cv2 \n",
        "from google.colab.patches import cv2_imshow\n",
        "from matplotlib import pyplot as plt\n",
        "\n",
        "from sklearn.model_selection import train_test_split\n",
        "from sklearn.metrics import mean_absolute_error, mean_squared_error, r2_score\n",
        "from sklearn.metrics import accuracy_score, precision_score, recall_score\n",
        "from sklearn.metrics import confusion_matrix, f1_score, average_precision_score\n",
        "from sklearn.metrics import precision_recall_curve, plot_precision_recall_curve\n",
        "\n",
        "import argparse\n",
        "import re\n",
        "import time\n",
        "import urllib.request as lib\n",
        "\n",
        "import tensorflow as tf\n",
        "from tensorflow import keras"
      ],
      "execution_count": 0,
      "outputs": []
    },
    {
      "cell_type": "code",
      "metadata": {
        "id": "L1GyYZtwUoAS",
        "colab_type": "code",
        "outputId": "6451e792-df5e-43d1-d946-ffdea8f21ef9",
        "colab": {
          "base_uri": "https://localhost:8080/",
          "height": 34
        }
      },
      "source": [
        "# Uncomment your directory structure // Comment others\n",
        "\n",
        "#dir='/content/drive/My Drive/Sport_Images/Sport_Images/table_tennis/'\n",
        "dir='/content/drive/My Drive/Colab Notebooks/Project1/train/tabletennis/'\n",
        "image='image.jpeg'\n",
        "filename = dir+image\n",
        "filename"
      ],
      "execution_count": 4,
      "outputs": [
        {
          "output_type": "execute_result",
          "data": {
            "text/plain": [
              "'/content/drive/My Drive/Colab Notebooks/Project1/train/tabletennis/image.jpeg'"
            ]
          },
          "metadata": {
            "tags": []
          },
          "execution_count": 4
        }
      ]
    },
    {
      "cell_type": "code",
      "metadata": {
        "id": "c7fs5joG1vl1",
        "colab_type": "code",
        "colab": {}
      },
      "source": [
        "# Where to save the figures\n",
        "PROJECT_ROOT_DIR = \"/content/drive/My Drive/Colab Notebooks/Project1/\"\n",
        "IMAGES_PATH = os.path.join(PROJECT_ROOT_DIR, \"results\")\n",
        "os.makedirs(IMAGES_PATH, exist_ok=True)\n",
        "\n",
        "def save_fig(fig_id, tight_layout=True, fig_extension=\"png\", resolution=300):\n",
        "    path = os.path.join(IMAGES_PATH, fig_id + \".\" + fig_extension)\n",
        "    print(\"Saving figure\", fig_id)\n",
        "    if tight_layout:\n",
        "        plt.tight_layout()\n",
        "    plt.savefig(path, format=fig_extension, dpi=resolution)"
      ],
      "execution_count": 0,
      "outputs": []
    },
    {
      "cell_type": "code",
      "metadata": {
        "colab_type": "code",
        "id": "mULvyKhh61M7",
        "colab": {}
      },
      "source": [
        "def process_image(img, desired_size = 128):\n",
        "    height,width,ch = img.shape\n",
        "    ratio = desired_size/height\n",
        "    width = int(width*ratio) if (width*ratio)<300 else 300\n",
        "    height =  int(desired_size)\n",
        "    dimensions = (width,height)\n",
        "    image = cv2.resize(img,dimensions,interpolation=cv2.INTER_AREA)    \n",
        "    # Pad bottom with zeros to desired size otherwise crop to desired size\n",
        "    delta_w = (desired_size - width) if (desired_size - width) > 0 else 0\n",
        "    left, right = 0, delta_w\n",
        "    top, bottom = 0, 0\n",
        "    color = [0, 0, 0]\n",
        "    image = cv2.copyMakeBorder(image, top, bottom, left, right, cv2.BORDER_CONSTANT, value=color)\n",
        "    dimensions = (desired_size, desired_size)\n",
        "    image = cv2.resize(img,dimensions,interpolation=cv2.INTER_AREA)\n",
        "    return image\n",
        "\n",
        "#Display an RGB image in the proper size\n",
        "def show_image(file,size=128):\n",
        "    img = cv2.imread(file)\n",
        "    image = process_image(img,size)\n",
        "    #CV2 reads an image in BGR format. We need to convert it to RGB\n",
        "    b,g,r = cv2.split(image)       # get b,g,r\n",
        "    rgb_img = cv2.merge([r,g,b])     # switch it to rgb\n",
        "    plt.imshow(rgb_img)\n",
        "    return\n",
        "\n",
        "def url_to_image(url):\n",
        "\t# download the image, convert it to a NumPy array, and then read it into OpenCV format\n",
        "\tresp = lib.urlopen(url)\n",
        "\timg = np.asarray(bytearray(resp.read()), dtype=\"uint8\")\n",
        "\timg = cv2.imdecode(img,cv2.IMREAD_COLOR)\n",
        " \n",
        "  # Fix width to 300, keep aspect ration and adjust height\n",
        "\tdesired_size = 300\n",
        "\timage = process_image(img,desired_size)\n",
        "\treturn image\n",
        "\n",
        "#Show a list of keys \n",
        "def getList(dict): \n",
        "    return dict.keys()"
      ],
      "execution_count": 0,
      "outputs": []
    },
    {
      "cell_type": "code",
      "metadata": {
        "id": "Ea7AjOmXel4g",
        "colab_type": "code",
        "colab": {}
      },
      "source": [
        "# Geron - Hands-On Machine Learning with Scikit-Learn, Keras & Tension Flow\n",
        "def plot_learning_curves1(model, X_train,X_val, y_train, y_val ):\n",
        "    train_errors, val_errors = [], []\n",
        "    for m in range(1, len(X_train)):\n",
        "        model.fit(X_train[:m], y_train[:m])\n",
        "        y_train_predict = model.predict(X_train[:m])\n",
        "        y_val_predict = model.predict(X_val)\n",
        "        train_errors.append(mean_squared_error(y_train[:m], y_train_predict))\n",
        "        val_errors.append(mean_squared_error(y_val, y_val_predict))\n",
        "    return train_errors,val_errors\n",
        "\n",
        "def eval(y, y_pred):\n",
        "    acc = accuracy_score(y, y_pred)\n",
        "    pre = precision_score(y, y_pred)\n",
        "    rec = recall_score(y, y_pred)\n",
        "    f1 = f1_score(y, y_pred)\n",
        "    print('F1 Score: ', '{:.2f}'.format(f1),'\\tAccuracy: ', '{:.2f}'.format(acc),\n",
        "          '\\tPrecison: ','{:.2f}'.format(pre),'\\tRecall: ', '{:.2f}'.format(rec))\n",
        "    return   "
      ],
      "execution_count": 0,
      "outputs": []
    },
    {
      "cell_type": "markdown",
      "metadata": {
        "id": "Z3GEQfNCCCYn",
        "colab_type": "text"
      },
      "source": [
        "### Change Working Directory"
      ]
    },
    {
      "cell_type": "code",
      "metadata": {
        "id": "0IJkMFbIW6M1",
        "colab_type": "code",
        "outputId": "71b2a7bc-8962-4097-dd5b-4fc5c183ddc0",
        "colab": {
          "base_uri": "https://localhost:8080/",
          "height": 68
        }
      },
      "source": [
        "# Collab: /content/drive/My Drive/Colab Notebooks/Project1\n",
        "# Check current working directory.\n",
        "retval = os.getcwd()\n",
        "print(\"Current working directory %s\" % retval)\n",
        "path = input()\n",
        "\n",
        "# Now change the directory\n",
        "os.chdir( path )\n",
        "\n",
        "# Check current working directory.\n",
        "retval = os.getcwd()\n",
        "\n",
        "print(\"Directory changed successfully %s\" % retval)"
      ],
      "execution_count": 8,
      "outputs": [
        {
          "output_type": "stream",
          "text": [
            "Current working directory /content\n",
            "/content/drive/My Drive/Colab Notebooks/Project1\n",
            "Directory changed successfully /content/drive/My Drive/Colab Notebooks/Project1\n"
          ],
          "name": "stdout"
        }
      ]
    },
    {
      "cell_type": "markdown",
      "metadata": {
        "id": "5lbOMqQaNuqZ",
        "colab_type": "text"
      },
      "source": [
        "### Load images from Google-Drive"
      ]
    },
    {
      "cell_type": "code",
      "metadata": {
        "id": "4ITlAdZMNp68",
        "colab_type": "code",
        "colab": {}
      },
      "source": [
        "directory = '/content/drive/My Drive/Colab Notebooks/Project1/train/'\n",
        "train_list=[]\n",
        "idx, idx_y= 0, 0\n",
        "y=np.zeros(963)\n",
        "for path, dirs, files in os.walk(directory):\n",
        "    for file in files:\n",
        "      img = path +'/' + file\n",
        "      img_rd = cv2.imread(img)\n",
        "      image = process_image(img_rd,300)\n",
        "      train_list.append(image)\n",
        "      if path == '/content/drive/My Drive/Colab Notebooks/Project1/train/tabletennis':\n",
        "        y[idx] = 1\n",
        "#        print(idx, path +'/' + file)\n",
        "      idx += 1\n",
        "idx_y = idx        "
      ],
      "execution_count": 0,
      "outputs": []
    },
    {
      "cell_type": "code",
      "metadata": {
        "id": "DAh2f1aBHrVO",
        "colab_type": "code",
        "colab": {}
      },
      "source": [
        "directory = '/content/drive/My Drive/Colab Notebooks/Project1/valid/'\n",
        "valid_list=[]\n",
        "for path, dirs, files in os.walk(directory):\n",
        "    for file in files:\n",
        "      img = path +'/' + file\n",
        "      img_rd = cv2.imread(img)\n",
        "      image = process_image(img_rd,300)\n",
        "      valid_list.append(image)\n",
        "      if path == '/content/drive/My Drive/Colab Notebooks/Project1/valid/tabletennis':\n",
        "        y[idx_y] = 1\n",
        "#        print(idx_y, path +'/' + file)\n",
        "      idx_y += 1"
      ],
      "execution_count": 0,
      "outputs": []
    },
    {
      "cell_type": "code",
      "metadata": {
        "id": "16GsjZKAH_Cs",
        "colab_type": "code",
        "colab": {}
      },
      "source": [
        "img_list = train_list + valid_list\n",
        "X = np.array(img_list)"
      ],
      "execution_count": 0,
      "outputs": []
    },
    {
      "cell_type": "code",
      "metadata": {
        "id": "p5owjeKcGl8c",
        "colab_type": "code",
        "outputId": "a5d67ef5-544a-44e8-d3fe-00181da0d551",
        "colab": {
          "base_uri": "https://localhost:8080/",
          "height": 34
        }
      },
      "source": [
        "X_train, X_test, y_train, y_test = train_test_split(X, y, test_size=0.2, random_state=21, )\n",
        "print('X_train: ',X_train.shape, '\\ty_train: ', y_train.shape, 'X_test: ',X_test.shape, '\\ty_train: ',y_test.shape)"
      ],
      "execution_count": 12,
      "outputs": [
        {
          "output_type": "stream",
          "text": [
            "X_train:  (770, 300, 300, 3) \ty_train:  (770,) X_test:  (193, 300, 300, 3) \ty_train:  (193,)\n"
          ],
          "name": "stdout"
        }
      ]
    },
    {
      "cell_type": "markdown",
      "metadata": {
        "id": "5EnbdcxBXEGY",
        "colab_type": "text"
      },
      "source": [
        "### Classification Models require each image as a single array"
      ]
    },
    {
      "cell_type": "code",
      "metadata": {
        "id": "7pxuH5LRmzhJ",
        "colab_type": "code",
        "outputId": "e2cd456d-10d5-4606-feb6-3fbb3d292ecd",
        "colab": {
          "base_uri": "https://localhost:8080/",
          "height": 34
        }
      },
      "source": [
        "X_train = X_train.reshape(770,270000)\n",
        "X_test = X_test.reshape(193,270000)\n",
        "print('X_train: ',X_train.shape, '\\ty_train: ', y_train.shape, '\\tX_test: ',X_test.shape, '\\ty_test: ',y_test.shape)"
      ],
      "execution_count": 13,
      "outputs": [
        {
          "output_type": "stream",
          "text": [
            "X_train:  (770, 270000) \ty_train:  (770,) \tX_test:  (193, 270000) \ty_test:  (193,)\n"
          ],
          "name": "stdout"
        }
      ]
    },
    {
      "cell_type": "code",
      "metadata": {
        "id": "lyh5zWSMdPxh",
        "colab_type": "code",
        "outputId": "5ede5c2d-b679-4de1-cb8a-56c23eb945c4",
        "colab": {
          "base_uri": "https://localhost:8080/",
          "height": 34
        }
      },
      "source": [
        "from sklearn.linear_model import SGDClassifier\n",
        "\n",
        "sgd_clf = SGDClassifier(alpha=0.1,max_iter= 1000, tol=1e-03,validation_fraction=0.4, random_state=21)\n",
        "sgd_clf.fit(X_train, y_train)\n",
        "\n",
        "y_pred = sgd_clf.predict(X_test)\n",
        "eval(y_test, y_pred)"
      ],
      "execution_count": 14,
      "outputs": [
        {
          "output_type": "stream",
          "text": [
            "F1 Score:  0.73 \tAccuracy:  0.91 \tPrecison:  0.66 \tRecall:  0.82\n"
          ],
          "name": "stdout"
        }
      ]
    },
    {
      "cell_type": "code",
      "metadata": {
        "id": "95XViJG1S_Kr",
        "colab_type": "code",
        "outputId": "14a4b0e4-0e45-49dc-a743-fc662135da96",
        "colab": {
          "base_uri": "https://localhost:8080/",
          "height": 51
        }
      },
      "source": [
        "confusion_matrix(y_test, y_pred)"
      ],
      "execution_count": 15,
      "outputs": [
        {
          "output_type": "execute_result",
          "data": {
            "text/plain": [
              "array([[153,  12],\n",
              "       [  5,  23]])"
            ]
          },
          "metadata": {
            "tags": []
          },
          "execution_count": 15
        }
      ]
    },
    {
      "cell_type": "code",
      "metadata": {
        "id": "q35yNeqcQJfw",
        "colab_type": "code",
        "outputId": "173e40b5-bfb8-4723-e04c-61c986d0b946",
        "colab": {
          "base_uri": "https://localhost:8080/",
          "height": 312
        }
      },
      "source": [
        "# Display Precision-Recall Curve\n",
        "y_score = sgd_clf.decision_function(X_test)\n",
        "average_precision = average_precision_score(y_test, y_score)\n",
        "disp = plot_precision_recall_curve(sgd_clf, X_test, y_test)\n",
        "disp.ax_.set_title('SDG Precision-Recall curve: '\n",
        "                   'AP={0:0.2f}'.format(average_precision))\n",
        "#save_fig(\"SDG-Precsion-Recall-Curve\")"
      ],
      "execution_count": 16,
      "outputs": [
        {
          "output_type": "execute_result",
          "data": {
            "text/plain": [
              "Text(0.5, 1.0, 'SDG Precision-Recall curve: AP=0.70')"
            ]
          },
          "metadata": {
            "tags": []
          },
          "execution_count": 16
        },
        {
          "output_type": "display_data",
          "data": {
            "image/png": "[encoded data removed]",
            "text/plain": [
              "<Figure size 432x288 with 1 Axes>"
            ]
          },
          "metadata": {
            "tags": [],
            "needs_background": "light"
          }
        }
      ]
    },
    {
      "cell_type": "code",
      "metadata": {
        "id": "qx1tYJLPBvAm",
        "colab_type": "code",
        "outputId": "576dff2d-38c3-4c22-ab62-86b1d6e65106",
        "colab": {
          "base_uri": "https://localhost:8080/",
          "height": 34
        }
      },
      "source": [
        "from sklearn.linear_model import Perceptron\n",
        "\n",
        "per_clf = Perceptron(max_iter=1000, tol=1e-3, random_state=21)\n",
        "per_clf.fit(X_train, y_train)\n",
        "\n",
        "y_pred = per_clf.predict(X_test)\n",
        "eval(y_test, y_pred)"
      ],
      "execution_count": 17,
      "outputs": [
        {
          "output_type": "stream",
          "text": [
            "F1 Score:  0.73 \tAccuracy:  0.91 \tPrecison:  0.66 \tRecall:  0.82\n"
          ],
          "name": "stdout"
        }
      ]
    },
    {
      "cell_type": "code",
      "metadata": {
        "id": "BzbJPiqxSy0P",
        "colab_type": "code",
        "outputId": "6d9ec1a1-8fd7-4c28-9b9c-8362b3f61cc3",
        "colab": {
          "base_uri": "https://localhost:8080/",
          "height": 51
        }
      },
      "source": [
        "confusion_matrix(y_test, y_pred)"
      ],
      "execution_count": 18,
      "outputs": [
        {
          "output_type": "execute_result",
          "data": {
            "text/plain": [
              "array([[153,  12],\n",
              "       [  5,  23]])"
            ]
          },
          "metadata": {
            "tags": []
          },
          "execution_count": 18
        }
      ]
    },
    {
      "cell_type": "code",
      "metadata": {
        "id": "lcS90Oydcqyf",
        "colab_type": "code",
        "outputId": "70f28616-f52a-4247-e5d7-0dbccffc38b4",
        "colab": {
          "base_uri": "https://localhost:8080/",
          "height": 312
        }
      },
      "source": [
        "# Display Precision-Recall Curve\n",
        "y_score = per_clf.decision_function(X_test)\n",
        "average_precision = average_precision_score(y_test, y_score)\n",
        "disp = plot_precision_recall_curve(per_clf, X_test, y_test)\n",
        "disp.ax_.set_title('Perceptron Precision-Recall curve: '\n",
        "                   'AP={0:0.2f}'.format(average_precision))\n",
        "#save_fig(\"Perceptron-Precsion-Recall-Curve\")"
      ],
      "execution_count": 19,
      "outputs": [
        {
          "output_type": "execute_result",
          "data": {
            "text/plain": [
              "Text(0.5, 1.0, 'Perceptron Precision-Recall curve: AP=0.70')"
            ]
          },
          "metadata": {
            "tags": []
          },
          "execution_count": 19
        },
        {
          "output_type": "display_data",
          "data": {
            "image/png": "[encoded data removed]",
            "text/plain": [
              "<Figure size 432x288 with 1 Axes>"
            ]
          },
          "metadata": {
            "tags": [],
            "needs_background": "light"
          }
        }
      ]
    },
    {
      "cell_type": "code",
      "metadata": {
        "id": "LwASzAtRCj-v",
        "colab_type": "code",
        "colab": {
          "base_uri": "https://localhost:8080/",
          "height": 88
        },
        "outputId": "16a68c52-bc1b-4ad4-874b-487e291ca7ee"
      },
      "source": [
        "from sklearn.neural_network import MLPClassifier\n",
        "\n",
        "#Default settings create 1 hidden layer with 600 neurons\n",
        "#look at MLPClassifier documentation in sklearn to see which parameters can be modified\n",
        "mlp_clf = MLPClassifier(hidden_layer_sizes=(300,))\n",
        "mlp_clf.fit(X_train, y_train)\n",
        "\n",
        "y_pred = mlp_clf.predict(X_test)\n",
        "eval(y_test, y_pred)"
      ],
      "execution_count": 20,
      "outputs": [
        {
          "output_type": "stream",
          "text": [
            "/usr/local/lib/python3.6/dist-packages/sklearn/neural_network/_multilayer_perceptron.py:573: UserWarning: Training interrupted by user.\n",
            "  warnings.warn(\"Training interrupted by user.\")\n"
          ],
          "name": "stderr"
        },
        {
          "output_type": "stream",
          "text": [
            "F1 Score:  0.33 \tAccuracy:  0.75 \tPrecison:  0.27 \tRecall:  0.43\n"
          ],
          "name": "stdout"
        }
      ]
    },
    {
      "cell_type": "code",
      "metadata": {
        "id": "2BpfELfEmNnq",
        "colab_type": "code",
        "colab": {
          "base_uri": "https://localhost:8080/",
          "height": 51
        },
        "outputId": "f5739686-b683-4845-d76b-41c8d5477ae7"
      },
      "source": [
        "confusion_matrix(y_test, y_pred)"
      ],
      "execution_count": 24,
      "outputs": [
        {
          "output_type": "execute_result",
          "data": {
            "text/plain": [
              "array([[133,  32],\n",
              "       [ 16,  12]])"
            ]
          },
          "metadata": {
            "tags": []
          },
          "execution_count": 24
        }
      ]
    },
    {
      "cell_type": "code",
      "metadata": {
        "id": "ADEYJjSCmOT3",
        "colab_type": "code",
        "colab": {
          "base_uri": "https://localhost:8080/",
          "height": 312
        },
        "outputId": "6280db11-6830-45e8-c6f0-45621a37bc48"
      },
      "source": [
        "# Display Precision-Recall Curve\n",
        "y_score = per_clf.decision_function(X_test)\n",
        "average_precision = average_precision_score(y_test, y_score)\n",
        "disp = plot_precision_recall_curve(per_clf, X_test, y_test)\n",
        "disp.ax_.set_title('Perceptron Precision-Recall curve: '\n",
        "                   'AP={0:0.2f}'.format(average_precision))\n",
        "#save_fig(\"Perceptron-Precsion-Recall-Curve\")"
      ],
      "execution_count": 25,
      "outputs": [
        {
          "output_type": "execute_result",
          "data": {
            "text/plain": [
              "Text(0.5, 1.0, 'Perceptron Precision-Recall curve: AP=0.70')"
            ]
          },
          "metadata": {
            "tags": []
          },
          "execution_count": 25
        },
        {
          "output_type": "display_data",
          "data": {
            "image/png": "[encoded data removed]",
            "text/plain": [
              "<Figure size 432x288 with 1 Axes>"
            ]
          },
          "metadata": {
            "tags": [],
            "needs_background": "light"
          }
        }
      ]
    },
    {
      "cell_type": "markdown",
      "metadata": {
        "id": "eA3SuKg7WpOA",
        "colab_type": "text"
      },
      "source": [
        "### NN takes input as a NxM matrix"
      ]
    },
    {
      "cell_type": "code",
      "metadata": {
        "id": "fFdexNhOu4h2",
        "colab_type": "code",
        "colab": {
          "base_uri": "https://localhost:8080/",
          "height": 34
        },
        "outputId": "13098d58-99a9-4491-abaf-8a4a53703411"
      },
      "source": [
        "X_train.shape"
      ],
      "execution_count": 32,
      "outputs": [
        {
          "output_type": "execute_result",
          "data": {
            "text/plain": [
              "(770, 270000)"
            ]
          },
          "metadata": {
            "tags": []
          },
          "execution_count": 32
        }
      ]
    },
    {
      "cell_type": "code",
      "metadata": {
        "id": "eIR3fRXHC2TD",
        "colab_type": "code",
        "colab": {
          "base_uri": "https://localhost:8080/",
          "height": 232
        },
        "outputId": "8657bad1-c1cf-4ae0-bad7-ab89ab65f874"
      },
      "source": [
        "X_train_full = X_train.reshape(1920,300,300)\n",
        "X_test = X_test.reshape(480,300,300)\n",
        "y_test = y_test.astype(int)\n",
        "y_test_double = np.append(y_test, y_test)\n",
        "y_test = np.append(y_test_double, y_test)\n",
        "y_train = y_train.astype(int)\n",
        "y_train_full = np.append(y_train, y_train)\n",
        "y_train_full = np.append(y_train_full, y_train)\n",
        "X_train, X_valid, y_train, y_valid = train_test_split(X_train_full, y_train_full, test_size=0.2, random_state=42)\n",
        "\n",
        "print ('Train: X, y ',X_train.shape,X_train.dtype, y_train.shape,y_train.dtype,'\\nValid: X, y',X_valid.shape, X_valid.dtype, y_valid.shape,y_valid.dtype,\n",
        "       '\\nTest: X, y',X_test.shape, X_test.dtype, y_test.shape, y_test.dtype)"
      ],
      "execution_count": 26,
      "outputs": [
        {
          "output_type": "error",
          "ename": "ValueError",
          "evalue": "ignored",
          "traceback": [
            "\u001b[0;31m---------------------------------------------------------------------------\u001b[0m",
            "\u001b[0;31mValueError\u001b[0m                                Traceback (most recent call last)",
            "\u001b[0;32m<ipython-input-26-3c7d3e81e55d>\u001b[0m in \u001b[0;36m<module>\u001b[0;34m()\u001b[0m\n\u001b[0;32m----> 1\u001b[0;31m \u001b[0mX_train_full\u001b[0m \u001b[0;34m=\u001b[0m \u001b[0mX_train\u001b[0m\u001b[0;34m.\u001b[0m\u001b[0mreshape\u001b[0m\u001b[0;34m(\u001b[0m\u001b[0;36m1920\u001b[0m\u001b[0;34m,\u001b[0m\u001b[0;36m300\u001b[0m\u001b[0;34m,\u001b[0m\u001b[0;36m300\u001b[0m\u001b[0;34m)\u001b[0m\u001b[0;34m\u001b[0m\u001b[0;34m\u001b[0m\u001b[0m\n\u001b[0m\u001b[1;32m      2\u001b[0m \u001b[0mX_test\u001b[0m \u001b[0;34m=\u001b[0m \u001b[0mX_test\u001b[0m\u001b[0;34m.\u001b[0m\u001b[0mreshape\u001b[0m\u001b[0;34m(\u001b[0m\u001b[0;36m480\u001b[0m\u001b[0;34m,\u001b[0m\u001b[0;36m300\u001b[0m\u001b[0;34m,\u001b[0m\u001b[0;36m300\u001b[0m\u001b[0;34m)\u001b[0m\u001b[0;34m\u001b[0m\u001b[0;34m\u001b[0m\u001b[0m\n\u001b[1;32m      3\u001b[0m \u001b[0my_test\u001b[0m \u001b[0;34m=\u001b[0m \u001b[0my_test\u001b[0m\u001b[0;34m.\u001b[0m\u001b[0mastype\u001b[0m\u001b[0;34m(\u001b[0m\u001b[0mint\u001b[0m\u001b[0;34m)\u001b[0m\u001b[0;34m\u001b[0m\u001b[0;34m\u001b[0m\u001b[0m\n\u001b[1;32m      4\u001b[0m \u001b[0my_test_double\u001b[0m \u001b[0;34m=\u001b[0m \u001b[0mnp\u001b[0m\u001b[0;34m.\u001b[0m\u001b[0mappend\u001b[0m\u001b[0;34m(\u001b[0m\u001b[0my_test\u001b[0m\u001b[0;34m,\u001b[0m \u001b[0my_test\u001b[0m\u001b[0;34m)\u001b[0m\u001b[0;34m\u001b[0m\u001b[0;34m\u001b[0m\u001b[0m\n\u001b[1;32m      5\u001b[0m \u001b[0my_test\u001b[0m \u001b[0;34m=\u001b[0m \u001b[0mnp\u001b[0m\u001b[0;34m.\u001b[0m\u001b[0mappend\u001b[0m\u001b[0;34m(\u001b[0m\u001b[0my_test_double\u001b[0m\u001b[0;34m,\u001b[0m \u001b[0my_test\u001b[0m\u001b[0;34m)\u001b[0m\u001b[0;34m\u001b[0m\u001b[0;34m\u001b[0m\u001b[0m\n",
            "\u001b[0;31mValueError\u001b[0m: cannot reshape array of size 207900000 into shape (1920,300,300)"
          ]
        }
      ]
    },
    {
      "cell_type": "code",
      "metadata": {
        "id": "5CWquaclCvXF",
        "colab_type": "code",
        "colab": {}
      },
      "source": [
        "model = keras.models.Sequential()\n",
        "model.add(keras.layers.Flatten(input_shape=[300, 300]))\n",
        "model.add(keras.layers.Dense(600, activation=\"relu\"))\n",
        "model.add(keras.layers.Dense(200, activation=\"relu\"))\n",
        "model.add(keras.layers.Dense(3, activation=\"sigmoid\" ))"
      ],
      "execution_count": 0,
      "outputs": []
    },
    {
      "cell_type": "code",
      "metadata": {
        "id": "_mFgykqy-9qb",
        "colab_type": "code",
        "colab": {
          "base_uri": "https://localhost:8080/",
          "height": 232
        },
        "outputId": "66d4c2c7-ec10-4edd-89be-3f37f97a0678"
      },
      "source": [
        "model.compile(loss=\"sparse_categorical_crossentropy\",\n",
        "              optimizer=keras.optimizers.SGD(lr=1e-3),\n",
        "              metrics=[\"accuracy\"])\n",
        "#model.compile(loss=\"mse\", \n",
        "#              optimizer=keras.optimizers.SGD(lr=1e-3),\n",
        "#              metrics=[\"accuracy\"])\n",
        "checkpoint_cb = keras.callbacks.ModelCheckpoint(\"ANN_model.h5\", save_best_only=True)\n",
        "early_stopping_cb = keras.callbacks.EarlyStopping(patience=10,\n",
        "                                                  restore_best_weights=True)\n",
        "history = model.fit(X_train, y_train, epochs=100,\n",
        "                    validation_data=(X_valid, y_valid),\n",
        "                    callbacks=[checkpoint_cb, early_stopping_cb])\n",
        "mse_test = model.evaluate(X_test, y_test)"
      ],
      "execution_count": 23,
      "outputs": [
        {
          "output_type": "error",
          "ename": "NameError",
          "evalue": "ignored",
          "traceback": [
            "\u001b[0;31m---------------------------------------------------------------------------\u001b[0m",
            "\u001b[0;31mNameError\u001b[0m                                 Traceback (most recent call last)",
            "\u001b[0;32m<ipython-input-23-15153d80ae09>\u001b[0m in \u001b[0;36m<module>\u001b[0;34m()\u001b[0m\n\u001b[1;32m      9\u001b[0m                                                   restore_best_weights=True)\n\u001b[1;32m     10\u001b[0m history = model.fit(X_train, y_train, epochs=100,\n\u001b[0;32m---> 11\u001b[0;31m                     \u001b[0mvalidation_data\u001b[0m\u001b[0;34m=\u001b[0m\u001b[0;34m(\u001b[0m\u001b[0mX_valid\u001b[0m\u001b[0;34m,\u001b[0m \u001b[0my_valid\u001b[0m\u001b[0;34m)\u001b[0m\u001b[0;34m,\u001b[0m\u001b[0;34m\u001b[0m\u001b[0;34m\u001b[0m\u001b[0m\n\u001b[0m\u001b[1;32m     12\u001b[0m                     callbacks=[checkpoint_cb, early_stopping_cb])\n\u001b[1;32m     13\u001b[0m \u001b[0mmse_test\u001b[0m \u001b[0;34m=\u001b[0m \u001b[0mmodel\u001b[0m\u001b[0;34m.\u001b[0m\u001b[0mevaluate\u001b[0m\u001b[0;34m(\u001b[0m\u001b[0mX_test\u001b[0m\u001b[0;34m,\u001b[0m \u001b[0my_test\u001b[0m\u001b[0;34m)\u001b[0m\u001b[0;34m\u001b[0m\u001b[0;34m\u001b[0m\u001b[0m\n",
            "\u001b[0;31mNameError\u001b[0m: name 'X_valid' is not defined"
          ]
        }
      ]
    },
    {
      "cell_type": "markdown",
      "metadata": {
        "id": "CVhrsQ5HNMs4",
        "colab_type": "text"
      },
      "source": [
        ""
      ]
    },
    {
      "cell_type": "code",
      "metadata": {
        "id": "9qTosg0Iszl7",
        "colab_type": "code",
        "colab": {}
      },
      "source": [
        "model.save(\"ANN_model.h5\")\n",
        "model.summary()"
      ],
      "execution_count": 0,
      "outputs": []
    },
    {
      "cell_type": "code",
      "metadata": {
        "id": "BLu9YHYsDoic",
        "colab_type": "code",
        "colab": {}
      },
      "source": [
        "keras.utils.plot_model(model, \"image_model.png\", show_shapes=True)"
      ],
      "execution_count": 0,
      "outputs": []
    },
    {
      "cell_type": "code",
      "metadata": {
        "id": "3uNXBZ-3LZZN",
        "colab_type": "code",
        "colab": {}
      },
      "source": [
        "hidden1 = model.layers[1]\n",
        "hidden1.name"
      ],
      "execution_count": 0,
      "outputs": []
    },
    {
      "cell_type": "code",
      "metadata": {
        "id": "WI4KU8oNL73B",
        "colab_type": "code",
        "colab": {}
      },
      "source": [
        "model.get_layer(hidden1.name) is hidden1"
      ],
      "execution_count": 0,
      "outputs": []
    },
    {
      "cell_type": "code",
      "metadata": {
        "id": "yw4wepX7L7yt",
        "colab_type": "code",
        "colab": {}
      },
      "source": [
        "weights, biases = hidden1.get_weights()\n",
        "print('Weights: ',weights.shape,'\\n\\n', weights)"
      ],
      "execution_count": 0,
      "outputs": []
    },
    {
      "cell_type": "code",
      "metadata": {
        "id": "aZgMTZUaL7nr",
        "colab_type": "code",
        "colab": {}
      },
      "source": [
        "print('Biases: ',biases.shape,'\\n', biases)"
      ],
      "execution_count": 0,
      "outputs": []
    },
    {
      "cell_type": "code",
      "metadata": {
        "id": "spgTPieENDv1",
        "colab_type": "code",
        "colab": {}
      },
      "source": [
        "print('History: ', history.params, '\\n',history.epoch, '\\n', history.history.keys())"
      ],
      "execution_count": 0,
      "outputs": []
    },
    {
      "cell_type": "code",
      "metadata": {
        "id": "r4Dd0irKNDV9",
        "colab_type": "code",
        "colab": {}
      },
      "source": [
        "pd.DataFrame(history.history).plot(figsize=(10, 7))\n",
        "plt.grid(True)\n",
        "plt.gca().set_ylim(0, 1)\n",
        "plt.show()"
      ],
      "execution_count": 0,
      "outputs": []
    },
    {
      "cell_type": "code",
      "metadata": {
        "id": "3KZboyJRD5K-",
        "colab_type": "code",
        "colab": {}
      },
      "source": [
        "model.evaluate(X_test, y_test)"
      ],
      "execution_count": 0,
      "outputs": []
    },
    {
      "cell_type": "code",
      "metadata": {
        "id": "ABSvPZRtD5BF",
        "colab_type": "code",
        "colab": {}
      },
      "source": [
        "X_new = X_test[:3]\n",
        "y_proba = model.predict(X_new)\n",
        "y_proba.round(2)"
      ],
      "execution_count": 0,
      "outputs": []
    },
    {
      "cell_type": "code",
      "metadata": {
        "id": "jblDiLm6EIwb",
        "colab_type": "code",
        "colab": {}
      },
      "source": [
        "y_pred = model.predict_classes(X_new)\n",
        "y_pred"
      ],
      "execution_count": 0,
      "outputs": []
    },
    {
      "cell_type": "code",
      "metadata": {
        "id": "Z-0xK-uHEIkb",
        "colab_type": "code",
        "colab": {}
      },
      "source": [
        "y_new = y_test[:3]\n",
        "y_new"
      ],
      "execution_count": 0,
      "outputs": []
    },
    {
      "cell_type": "markdown",
      "metadata": {
        "id": "F5Mwm9oWVcjE",
        "colab_type": "text"
      },
      "source": [
        "### CV2 exmaples"
      ]
    },
    {
      "cell_type": "code",
      "metadata": {
        "id": "v3vQd69NtVoq",
        "colab_type": "code",
        "colab": {}
      },
      "source": [
        "# -*- coding: utf-8 -*-\n",
        "\"\"\"\n",
        "Created on Wed Apr  1 23:32:46 2020\n",
        "\n",
        "@author: dhruv\n",
        "\"\"\"\n",
        "# Pythono3 code to rename multiple  \n",
        "# files in a directory or folder \n",
        "  \n",
        "# importing os module \n",
        "import os \n",
        "  \n",
        "# Function to rename multiple files \n",
        "def main(): \n",
        "    i = 0\n",
        "    path=\"C:/Users/dhruv/Desktop/Image CNN/training_set/badminton\"\n",
        "    x = os.listdir(path)\n",
        "    print(len(x))\n",
        "    for filename in x: \n",
        "        dst =path + \"/badminton_\" + str(i) + \".jpg\"\n",
        "        src = path + '/'+filename \n",
        "\n",
        "        #dst ='C:/Users/dhruv/Desktop/Image CNN/training_set/badminton'+ dst \n",
        "        print(src+'\\t'+dst)  \n",
        "        # rename() function will \n",
        "        # rename all the files \n",
        "        try:\n",
        "            os.rename(src, dst) \n",
        "    \n",
        "            i+=1\n",
        "\n",
        "        except:\n",
        "            \n",
        "            print(\"file_not_found\")\n",
        "    print(len(x))\n",
        "# Driver Code \n",
        "if __name__ == '__main__': \n",
        "      \n",
        "    # Calling main() function \n",
        "    main()        \n",
        "from keras.models import Sequential\n",
        "from keras.layers import Convolution2D\n",
        "from keras.layers import MaxPooling2D\n",
        "from keras.layers import Flatten\n",
        "from keras.layers import Dense\n",
        "\n",
        "\n",
        "classifier=Sequential()   # Intialializing CNN\n",
        "\n",
        "# Convolution Step\n",
        "classifier.add(Convolution2D(32, 3, 3, input_shape = (128,128,3), activation = 'relu')) # order of  input_shape for tensorflow backend\n",
        "\n",
        "#Pooling Step\n",
        "classifier.add(MaxPooling2D(pool_size = (2, 2)))\n",
        "\n",
        "#Flattening Step\n",
        "classifier.add(Flatten()) \n",
        "\n",
        "#Full Connection Step\n",
        "classifier.add(Dense(output_dim = 128,activation = 'relu'))\n",
        "classifier.add(Dense(output_dim = 1,activation = 'sigmoid')) #output layer \n",
        "\n",
        "#Compiling CNN\n",
        "classifier.compile(optimizer = 'adam', loss = 'binary_crossentropy', metrics = ['accuracy'])\n",
        "\n",
        "from keras.preprocessing.image import ImageDataGenerator\n",
        "\n",
        "path=\"C:\\\\Users\\\\dhruv\\\\Desktop\\\\Image CNN\\\\training_set\"\n",
        "\n",
        "train_datagen = ImageDataGenerator(\n",
        "        rescale=1./255,\n",
        "        shear_range=0.2,\n",
        "        zoom_range=0.2,\n",
        "        horizontal_flip=True)\n",
        "\n",
        "test_datagen = ImageDataGenerator(\n",
        "        rescale=1./255,\n",
        "        shear_range=0.2,\n",
        "        zoom_range=0.2,\n",
        "        horizontal_flip=True)\n",
        "\n",
        "\n",
        "training_set = train_datagen.flow_from_directory( path,\n",
        "                                                    target_size=(128, 128),\n",
        "                                                    batch_size=32,\n",
        "                                                    class_mode='binary')\n",
        "\n",
        "path=\"C:\\\\Users\\\\dhruv\\\\Desktop\\\\Image CNN\\\\training_set\"\n",
        "\n",
        "test_set = test_datagen.flow_from_directory(\n",
        "                                              path,\n",
        "                                              target_size=(128,128),\n",
        "                                              batch_size=32,\n",
        "                                              class_mode='binary')\n",
        "                                              \n",
        "classifier.fit_generator(\n",
        "        training_set,\n",
        "        steps_per_epoch=1408,\n",
        "        epochs=25,\n",
        "        validation_data=test_set,\n",
        "        validation_steps=1480)\n",
        "\n",
        "\n"
      ],
      "execution_count": 0,
      "outputs": []
    },
    {
      "cell_type": "code",
      "metadata": {
        "id": "A3Ch3lUBWR4b",
        "colab_type": "code",
        "colab": {}
      },
      "source": [
        "from keras.models import Sequential\n",
        "from keras.layers import Convolution2D\n",
        "from keras.layers import MaxPooling2D\n",
        "from keras.layers import Flatten\n",
        "from keras.layers import Dense\n",
        "\n",
        "classifier=Sequential()   # Intialializing CNN\n",
        "\n",
        "# Convolution Step\n",
        "classifier.add(Convolution2D(filters = 32, kernel_size = 3,strides = 3, input_shape = (300,300,3), data_format =\"channels_last\",activation = 'relu')) # order of  input_shape for tensorflow backend\n",
        "\n",
        "#Pooling Step\n",
        "classifier.add(MaxPooling2D(pool_size = (2, 2)))\n",
        "\n",
        "#Flattening Step\n",
        "classifier.add(Flatten()) \n",
        "\n",
        "#Full Connection Step\n",
        "classifier.add(Dense(output_dim = 128,activation = 'relu'))\n",
        "classifier.add(Dense(output_dim = 1,activation = 'sigmoid')) #output layer \n",
        "\n",
        "#Compiling CNN\n",
        "classifier.compile(optimizer = 'adam', loss = 'binary_crossentropy', metrics = ['accuracy'])"
      ],
      "execution_count": 0,
      "outputs": []
    },
    {
      "cell_type": "code",
      "metadata": {
        "id": "FSUXh0dxsotG",
        "colab_type": "code",
        "colab": {}
      },
      "source": [
        "classifier.fit(X_train, y_train, epochs=50, validation_data=(X_valid, y_valid))"
      ],
      "execution_count": 0,
      "outputs": []
    },
    {
      "cell_type": "code",
      "metadata": {
        "id": "qanNwoC_WXbA",
        "colab_type": "code",
        "colab": {}
      },
      "source": [
        "classifier.fit_generator(\n",
        "        X_train,\n",
        "        steps_per_epoch=1,\n",
        "        epochs=25,\n",
        "        validation_data=(X_valid, y_valid),\n",
        "        validation_steps=1480)"
      ],
      "execution_count": 0,
      "outputs": []
    },
    {
      "cell_type": "markdown",
      "metadata": {
        "id": "b-DGgRcR286Z",
        "colab_type": "text"
      },
      "source": [
        "### Below code is to extract images by hastags & accounts in instagram"
      ]
    },
    {
      "cell_type": "code",
      "metadata": {
        "id": "XpZoGbgu21uN",
        "colab_type": "code",
        "colab": {}
      },
      "source": [
        "from selenium import webdriver\n",
        "from bs4 import BeautifulSoup as bs\n",
        "import time\n",
        "import re\n",
        "from urllib.request import urlopen\n",
        "import json\n",
        "from pandas.io.json import json_normalize\n",
        "import pandas as pd, numpy as np"
      ],
      "execution_count": 0,
      "outputs": []
    },
    {
      "cell_type": "code",
      "metadata": {
        "id": "r-ZlbddZ26ba",
        "colab_type": "code",
        "colab": {}
      },
      "source": [
        "hashtag='sports'\n",
        "browser = webdriver.Chrome('/Users/pranayraqo/Downloads/chromedriver 2')\n",
        "browser.get('https://www.instagram.com/explore/tags/'+hashtag)\n",
        "Pagelength = browser.execute_script(\"window.scrollTo(0, document.body.scrollHeight/5.0);\")"
      ],
      "execution_count": 0,
      "outputs": []
    },
    {
      "cell_type": "code",
      "metadata": {
        "id": "FEYVofyE3E3F",
        "colab_type": "code",
        "colab": {}
      },
      "source": [
        "#Extract links from hashtag page\n",
        "links=[]\n",
        "source = browser.page_source\n",
        "data=bs(source, 'html.parser')\n",
        "body = data.find('body')\n",
        "script = body.find('script', text=lambda t: t.startswith('window._sharedData'))\n",
        "page_json = script.text.split(' = ', 1)[1].rstrip(';')\n",
        "data = json.loads(page_json)\n",
        "for link in data['entry_data']['TagPage'][0]['graphql']['hashtag']['edge_hashtag_to_media']['edges']:\n",
        "    links.append('https://www.instagram.com'+'/p/'+link['node']['shortcode']+'/')"
      ],
      "execution_count": 0,
      "outputs": []
    },
    {
      "cell_type": "code",
      "metadata": {
        "id": "k4wqwkYR3LPU",
        "colab_type": "code",
        "colab": {}
      },
      "source": [
        "link.to_csv(r'/Users/pranayrao/Downloads/insta_images/images.csv', index = True)"
      ],
      "execution_count": 0,
      "outputs": []
    },
    {
      "cell_type": "code",
      "metadata": {
        "id": "iod38CAM2uiO",
        "colab_type": "code",
        "colab": {}
      },
      "source": [
        "import pandas as pd \n",
        "import urllib.request \n",
        "\n",
        "def url_to_jpg(i,url,file_path):\n",
        "\n",
        "    filename = 'image-{}'.format(i)\n",
        "    fullpath = '{}{}'.format(file_path,filename)\n",
        "    urllib.request.urlretrieve(url,fullpath)\n",
        "\n",
        "    print('{} saved.'.format(filename))\n",
        "    return None\n",
        "\n",
        "file_name = 'insta_images.csv'\n",
        "file_path = '/Users/pranayrao/Downloads/'\n",
        "\n",
        "urls = pd.read_csv(file_name)\n",
        "\n",
        "for i,url in enumerate(urls.values):\n",
        "    url_to_jpg(i,url[0],file_path)"
      ],
      "execution_count": 0,
      "outputs": []
    },
    {
      "cell_type": "code",
      "metadata": {
        "id": "lbVN6NzUC_LK",
        "colab_type": "code",
        "colab": {}
      },
      "source": [
        "import pandas as pd \n",
        "import urllib.request \n",
        "\n",
        "def url_to_jpg(i,url,file_path):\n",
        "\n",
        "    filename = 'image-{}'.format(i)\n",
        "    fullpath = '{}{}'.format(file_path,filename)\n",
        "    urllib.request.urlretrieve(url,fullpath)\n",
        "\n",
        "    print('{} saved.'.format(filename))\n",
        "    return None\n",
        "\n",
        "file_name = 'image_tt.csv'\n",
        "file_path = '/Users/pranayrao/Downloads/'\n",
        "\n",
        "urls = pd.read_csv(file_name)\n",
        "\n",
        "for i,url in enumerate(urls.values):\n",
        "    url_to_jpg(i,url[0],file_path)"
      ],
      "execution_count": 0,
      "outputs": []
    },
    {
      "cell_type": "code",
      "metadata": {
        "id": "TkqGtlJd_26i",
        "colab_type": "code",
        "colab": {}
      },
      "source": [
        "# this is a code to convert images to RGB, to improve accuracy, just give the path and name to be assigned accordingly \n",
        "# -*- coding: utf-8 -*-\n",
        "\n",
        "\"\"\"\n",
        "Created on Wed Apr  1 23:32:46 2020\n",
        "\n",
        "@author: dhruv\n",
        "\"\"\"\n",
        "# Pythono3 code to rename multiple  \n",
        "# files in a directory or folder \n",
        "  \n",
        "# importing os module \n",
        "from PIL import Image\n",
        "import os \n",
        "\n",
        "  \n",
        "# Function to rename multiple files \n",
        "def main(): \n",
        "    i = 0\n",
        "    path=\"C:/Users/dhruv/Desktop/Image CNN/training_set/table_tennis\"\n",
        "    x = os.listdir(path)\n",
        "    print(len(x))\n",
        "    for filename in x: \n",
        "        dst =path + \"/table_tennis_\" + str(i) + \".jpeg\"\n",
        "        src = path + '/'+filename \n",
        "        \n",
        "        \n",
        "\n",
        "        #dst ='C:/Users/dhruv/Desktop/Image CNN/training_set/badminton'+ dst \n",
        "        print(src+'\\t'+dst)  \n",
        "        # rename() function will \n",
        "        # rename all the files \n",
        "        try:\n",
        "            im= Image.open(path + '/'+filename ).convert('RGB')\n",
        "            im.save(dst)\n",
        "            i+=1\n",
        "           \n",
        "         \n",
        "    \n",
        "        #    i+=1\n",
        "\n",
        "        except:\n",
        "            \n",
        "            \n",
        "            print(\"file_not_found\")\n",
        "    print(len(x))\n",
        "# Driver Code \n",
        "if __name__ == '__main__': \n",
        "      \n",
        "    # Calling main() function \n",
        "    main()        \n",
        "\n",
        "\n",
        "\n",
        "\n",
        "from keras.models import Sequential\n",
        "from keras.layers import Convolution2D\n",
        "from keras.layers import MaxPooling2D\n",
        "from keras.layers import Flatten\n",
        "from keras.layers import Dense\n",
        "from keras.layers import Dropout\n",
        "\n",
        "\n",
        "classifier=Sequential()   # Intialializing CNN\n",
        "\n",
        "# Convolution Step\n",
        "classifier.add(Convolution2D(32, 3, 3, input_shape = (128,128,3), activation = 'relu')) # order of  input_shape for tensorflow backend\n",
        "\n",
        "#Pooling Step\n",
        "classifier.add(MaxPooling2D(pool_size = (2, 2)))\n",
        "\n",
        "classifier.add(Dropout(rate=0.5))\n",
        "\n",
        "# Convolution Step\n",
        "classifier.add(Convolution2D(64, 3, 3, input_shape = (128,128,3), activation = 'relu')) # order of  input_shape for tensorflow backend\n",
        "\n",
        "#Pooling Step\n",
        "classifier.add(MaxPooling2D(pool_size = (2, 2)))\n",
        "\n",
        "classifier.add(Dropout(rate=0.5))\n",
        "\n",
        "# Convolution Step\n",
        "classifier.add(Convolution2D(128, 3, 3, input_shape = (128,128,3), activation = 'relu')) # order of  input_shape for tensorflow backend\n",
        "\n",
        "#Pooling Step\n",
        "classifier.add(MaxPooling2D(pool_size = (2, 2)))\n",
        "\n",
        "classifier.add(Dropout(rate=0.5))\n",
        "\n",
        "#Flattening Step\n",
        "classifier.add(Flatten()) \n",
        "\n",
        "#Full Connection Step\n",
        "classifier.add(Dense(output_dim = 128,activation = 'relu'))\n",
        "classifier.add(Dense(output_dim = 1,activation = 'softmax')) #output layer \n",
        "\n",
        "#Compiling CNN\n",
        "classifier.compile(optimizer = 'adam', loss = 'sparse_categorical_crossentropy', metrics = ['accuracy'])\n",
        "\n",
        "from keras.preprocessing.image import ImageDataGenerator\n",
        "\n",
        "path=\"C:\\\\Users\\\\dhruv\\\\Desktop\\\\Image CNN\\\\training_set\"\n",
        "\n",
        "train_datagen = ImageDataGenerator(\n",
        "        rescale=1./255,\n",
        "        shear_range=0.2,\n",
        "        zoom_range=0.2,\n",
        "        horizontal_flip=True)\n",
        "\n",
        "test_datagen = ImageDataGenerator(\n",
        "        rescale=1./255,\n",
        "        shear_range=0.2,\n",
        "        zoom_range=0.2,\n",
        "        horizontal_flip=True)\n",
        "\n",
        "\n",
        "training_set = train_datagen.flow_from_directory( path,\n",
        "                                                    target_size=(128, 128),\n",
        "                                                    batch_size=32,\n",
        "                                                    class_mode='categorical')\n",
        "\n",
        "path=\"C:\\\\Users\\\\dhruv\\\\Desktop\\\\Image CNN\\\\training_set\"\n",
        "\n",
        "test_set = test_datagen.flow_from_directory(\n",
        "                                              path,\n",
        "                                              target_size=(128,128),\n",
        "                                              batch_size=32,\n",
        "                                              class_mode='categorical')\n",
        "from keras.callbacks import EarlyStopping\n",
        "\n",
        "EarlyStopping(monitors = 'val_loss', patience=5,verbose=1,model = 'auto')\n",
        "callback=[earlystop]\n",
        "classifier.fit_generator(\n",
        "        training_set,\n",
        "        steps_per_epoch=100,\n",
        "        epochs=25,\n",
        "        validation_data=test_set,\n",
        "        validation_steps=100,\n",
        "        callbacks=[earlystop])\n",
        "\n",
        "\n",
        "\n"
      ],
      "execution_count": 0,
      "outputs": []
    },
    {
      "cell_type": "markdown",
      "metadata": {
        "id": "bPE-kXx4W92l",
        "colab_type": "text"
      },
      "source": [
        "## Convolution Neural Network"
      ]
    },
    {
      "cell_type": "code",
      "metadata": {
        "id": "hVdwjLeXW6gi",
        "colab_type": "code",
        "colab": {
          "base_uri": "https://localhost:8080/",
          "height": 34
        },
        "outputId": "71c838b5-76fc-4309-82b4-f27f7d37f529"
      },
      "source": [
        "import keras\n",
        "import numpy as np\n",
        "import pandas as pd\n",
        "import random\n",
        "from keras.preprocessing.image import ImageDataGenerator\n",
        "from keras.models import Sequential\n",
        "from keras.layers import Dense, Dropout, Activation, Flatten\n",
        "from keras.layers import Conv2D, MaxPooling2D\n",
        "import os\n",
        "import cv2\n",
        "from matplotlib import pyplot as plt"
      ],
      "execution_count": 27,
      "outputs": [
        {
          "output_type": "stream",
          "text": [
            "Using TensorFlow backend.\n"
          ],
          "name": "stderr"
        }
      ]
    },
    {
      "cell_type": "code",
      "metadata": {
        "id": "uiSlXvDWW6XK",
        "colab_type": "code",
        "colab": {}
      },
      "source": [
        "#Predict a single image\n",
        "def process_image(img, desired_size = 128):\n",
        "    height,width,ch = img.shape\n",
        "    ratio = desired_size/height\n",
        "    width = int(width*ratio) if (width*ratio)<300 else 300\n",
        "    height =  int(desired_size)\n",
        "    dimensions = (width,height)\n",
        "    image = cv2.resize(img,dimensions,interpolation=cv2.INTER_AREA)    \n",
        "    # Pad bottom with zeros to desired size otherwise crop to desired size\n",
        "    delta_w = (desired_size - width) if (desired_size - width) > 0 else 0\n",
        "    left, right = 0, delta_w\n",
        "    top, bottom = 0, 0\n",
        "    color = [0, 0, 0]\n",
        "    image = cv2.copyMakeBorder(image, top, bottom, left, right, cv2.BORDER_CONSTANT, value=color)\n",
        "    dimensions = (desired_size, desired_size)\n",
        "    image = cv2.resize(img,dimensions,interpolation=cv2.INTER_AREA)\n",
        "    return image\n",
        "\n",
        "#Display an RGB image in the proper size\n",
        "def show_image(file,size):\n",
        "    img = cv2.imread(file)\n",
        "    image = process_image(img,size)\n",
        "    #CV2 reads an image in BGR format. We need to convert it to RGB\n",
        "    b,g,r = cv2.split(image)       # get b,g,r\n",
        "    rgb_img = cv2.merge([r,g,b])     # switch it to rgb\n",
        "    plt.imshow(rgb_img)\n",
        "    return\n",
        "\n",
        "#Show a list of keys \n",
        "def getList(dict): \n",
        "    return dict.keys()"
      ],
      "execution_count": 0,
      "outputs": []
    },
    {
      "cell_type": "code",
      "metadata": {
        "id": "81IMpBATW5wC",
        "colab_type": "code",
        "colab": {
          "base_uri": "https://localhost:8080/",
          "height": 51
        },
        "outputId": "4cef2e03-0771-489a-ec7a-919f111cd0d9"
      },
      "source": [
        "train_datagen = ImageDataGenerator(rescale=1./255)\n",
        "train_generator = train_datagen.flow_from_directory(\n",
        "    directory=\"./train/\",\n",
        "    target_size=(300, 300),\n",
        "    color_mode=\"rgb\",\n",
        "    batch_size=6,\n",
        "    class_mode=\"categorical\",\n",
        "    shuffle=True,\n",
        "    seed=4\n",
        ")\n",
        "\n",
        "valid_datagen = ImageDataGenerator(rescale=1./255)\n",
        "valid_generator = valid_datagen.flow_from_directory(\n",
        "    directory= \"./valid/\",\n",
        "    target_size=(300, 300),\n",
        "    color_mode=\"rgb\",\n",
        "    batch_size=2,\n",
        "    class_mode=\"categorical\",\n",
        "    shuffle=True,\n",
        "    seed=42\n",
        ")"
      ],
      "execution_count": 29,
      "outputs": [
        {
          "output_type": "stream",
          "text": [
            "Found 778 images belonging to 7 classes.\n",
            "Found 185 images belonging to 7 classes.\n"
          ],
          "name": "stdout"
        }
      ]
    },
    {
      "cell_type": "code",
      "metadata": {
        "id": "XvOWQ7gVj7nr",
        "colab_type": "code",
        "colab": {
          "base_uri": "https://localhost:8080/",
          "height": 765
        },
        "outputId": "6f1d3b63-a1f5-43c0-ad57-0f00f691798b"
      },
      "source": [
        "model = Sequential()\n",
        "\n",
        "model.add(Conv2D(32, (4, 4), padding='same', input_shape=(300,300,3)))\n",
        "model.add(Activation('relu'))\n",
        "\n",
        "model.add(Conv2D(32, (3, 3)))\n",
        "model.add(Activation('relu'))\n",
        "\n",
        "model.add(MaxPooling2D(pool_size=(2, 2)))\n",
        "model.add(Dropout(rate=0.35))\n",
        "\n",
        "model.add(Conv2D(64, (4, 4), padding='same'))\n",
        "model.add(Activation('relu'))\n",
        "\n",
        "model.add(Conv2D(64, (3, 3)))\n",
        "model.add(Activation('relu'))\n",
        "\n",
        "model.add(MaxPooling2D(pool_size=(2, 2)))\n",
        "model.add(Dropout(rate=0.35))\n",
        "\n",
        "model.add(Flatten())\n",
        "\n",
        "model.add(Dense(512))\n",
        "model.add(Activation('relu'))\n",
        "model.add(Dropout(rate=0.35))\n",
        "\n",
        "model.add(Dense(7))\n",
        "model.add(Activation('softmax'))\n",
        "\n",
        "model.summary()\n",
        "\n",
        "# initiate adam optimizer\n",
        "opt = keras.optimizers.adam(lr=0.0001)\n",
        "\n",
        "# Let's train the model using RMSprop\n",
        "model.compile(loss='categorical_crossentropy',\n",
        "              optimizer=opt,\n",
        "              metrics=['accuracy'])"
      ],
      "execution_count": 30,
      "outputs": [
        {
          "output_type": "stream",
          "text": [
            "Model: \"sequential_1\"\n",
            "_________________________________________________________________\n",
            "Layer (type)                 Output Shape              Param #   \n",
            "=================================================================\n",
            "conv2d_1 (Conv2D)            (None, 300, 300, 32)      1568      \n",
            "_________________________________________________________________\n",
            "activation_1 (Activation)    (None, 300, 300, 32)      0         \n",
            "_________________________________________________________________\n",
            "conv2d_2 (Conv2D)            (None, 298, 298, 32)      9248      \n",
            "_________________________________________________________________\n",
            "activation_2 (Activation)    (None, 298, 298, 32)      0         \n",
            "_________________________________________________________________\n",
            "max_pooling2d_1 (MaxPooling2 (None, 149, 149, 32)      0         \n",
            "_________________________________________________________________\n",
            "dropout_1 (Dropout)          (None, 149, 149, 32)      0         \n",
            "_________________________________________________________________\n",
            "conv2d_3 (Conv2D)            (None, 149, 149, 64)      32832     \n",
            "_________________________________________________________________\n",
            "activation_3 (Activation)    (None, 149, 149, 64)      0         \n",
            "_________________________________________________________________\n",
            "conv2d_4 (Conv2D)            (None, 147, 147, 64)      36928     \n",
            "_________________________________________________________________\n",
            "activation_4 (Activation)    (None, 147, 147, 64)      0         \n",
            "_________________________________________________________________\n",
            "max_pooling2d_2 (MaxPooling2 (None, 73, 73, 64)        0         \n",
            "_________________________________________________________________\n",
            "dropout_2 (Dropout)          (None, 73, 73, 64)        0         \n",
            "_________________________________________________________________\n",
            "flatten_1 (Flatten)          (None, 341056)            0         \n",
            "_________________________________________________________________\n",
            "dense_1 (Dense)              (None, 512)               174621184 \n",
            "_________________________________________________________________\n",
            "activation_5 (Activation)    (None, 512)               0         \n",
            "_________________________________________________________________\n",
            "dropout_3 (Dropout)          (None, 512)               0         \n",
            "_________________________________________________________________\n",
            "dense_2 (Dense)              (None, 7)                 3591      \n",
            "_________________________________________________________________\n",
            "activation_6 (Activation)    (None, 7)                 0         \n",
            "=================================================================\n",
            "Total params: 174,705,351\n",
            "Trainable params: 174,705,351\n",
            "Non-trainable params: 0\n",
            "_________________________________________________________________\n"
          ],
          "name": "stdout"
        }
      ]
    },
    {
      "cell_type": "code",
      "metadata": {
        "id": "Gcj0tw6YkC6w",
        "colab_type": "code",
        "colab": {
          "base_uri": "https://localhost:8080/",
          "height": 1000
        },
        "outputId": "230b0eb6-7685-4085-8bc1-7bb4dce320e9"
      },
      "source": [
        "history = model.fit_generator(\n",
        "        train_generator,\n",
        "        steps_per_epoch=25,\n",
        "        epochs=50,\n",
        "        validation_data=valid_generator,\n",
        "        validation_steps=4)"
      ],
      "execution_count": 31,
      "outputs": [
        {
          "output_type": "stream",
          "text": [
            "Epoch 1/50\n",
            "25/25 [==============================] - 152s 6s/step - loss: 3.2524 - accuracy: 0.3133 - val_loss: 1.9571 - val_accuracy: 0.2500\n",
            "Epoch 2/50\n",
            "22/25 [=========================>....] - ETA: 17s - loss: 1.6251 - accuracy: 0.4470"
          ],
          "name": "stdout"
        },
        {
          "output_type": "stream",
          "text": [
            "/usr/local/lib/python3.6/dist-packages/PIL/TiffImagePlugin.py:788: UserWarning: Corrupt EXIF data.  Expecting to read 4 bytes but only got 0. \n",
            "  warnings.warn(str(msg))\n"
          ],
          "name": "stderr"
        },
        {
          "output_type": "stream",
          "text": [
            "25/25 [==============================] - 150s 6s/step - loss: 1.6632 - accuracy: 0.4200 - val_loss: 2.0627 - val_accuracy: 0.3750\n",
            "Epoch 3/50\n",
            "25/25 [==============================] - 149s 6s/step - loss: 1.6075 - accuracy: 0.4865 - val_loss: 1.9291 - val_accuracy: 0.2500\n",
            "Epoch 4/50\n",
            "25/25 [==============================] - 149s 6s/step - loss: 1.5718 - accuracy: 0.4267 - val_loss: 1.8963 - val_accuracy: 0.1250\n",
            "Epoch 5/50\n",
            "25/25 [==============================] - 149s 6s/step - loss: 1.4679 - accuracy: 0.4933 - val_loss: 2.1472 - val_accuracy: 0.0000e+00\n",
            "Epoch 6/50\n",
            "25/25 [==============================] - 152s 6s/step - loss: 1.4660 - accuracy: 0.4467 - val_loss: 1.2018 - val_accuracy: 0.5000\n",
            "Epoch 7/50\n",
            "25/25 [==============================] - 151s 6s/step - loss: 1.3788 - accuracy: 0.5333 - val_loss: 1.7823 - val_accuracy: 0.5000\n",
            "Epoch 8/50\n",
            "25/25 [==============================] - 152s 6s/step - loss: 1.3852 - accuracy: 0.4200 - val_loss: 1.0016 - val_accuracy: 0.2500\n",
            "Epoch 9/50\n",
            "25/25 [==============================] - 151s 6s/step - loss: 1.2998 - accuracy: 0.5405 - val_loss: 1.7737 - val_accuracy: 0.6250\n",
            "Epoch 10/50\n",
            "25/25 [==============================] - 151s 6s/step - loss: 1.1801 - accuracy: 0.5267 - val_loss: 1.3885 - val_accuracy: 0.3750\n",
            "Epoch 11/50\n",
            "25/25 [==============================] - 152s 6s/step - loss: 1.0632 - accuracy: 0.5667 - val_loss: 1.8035 - val_accuracy: 0.5000\n",
            "Epoch 12/50\n",
            "25/25 [==============================] - 151s 6s/step - loss: 0.8948 - accuracy: 0.6933 - val_loss: 2.4061 - val_accuracy: 0.3750\n",
            "Epoch 13/50\n",
            "25/25 [==============================] - 150s 6s/step - loss: 1.0974 - accuracy: 0.5946 - val_loss: 0.8014 - val_accuracy: 0.8750\n",
            "Epoch 14/50\n",
            "25/25 [==============================] - 152s 6s/step - loss: 0.9633 - accuracy: 0.6133 - val_loss: 0.9186 - val_accuracy: 0.3750\n",
            "Epoch 15/50\n",
            "25/25 [==============================] - 151s 6s/step - loss: 0.9020 - accuracy: 0.6533 - val_loss: 0.6780 - val_accuracy: 0.7500\n",
            "Epoch 16/50\n",
            "25/25 [==============================] - 151s 6s/step - loss: 0.7772 - accuracy: 0.7400 - val_loss: 1.0117 - val_accuracy: 0.6250\n",
            "Epoch 17/50\n",
            "25/25 [==============================] - 152s 6s/step - loss: 0.6638 - accuracy: 0.7667 - val_loss: 0.2180 - val_accuracy: 0.7500\n",
            "Epoch 18/50\n",
            "25/25 [==============================] - 151s 6s/step - loss: 0.4888 - accuracy: 0.8514 - val_loss: 1.5786 - val_accuracy: 0.6250\n",
            "Epoch 19/50\n",
            "25/25 [==============================] - 152s 6s/step - loss: 0.5533 - accuracy: 0.7800 - val_loss: 2.5313 - val_accuracy: 0.5000\n",
            "Epoch 20/50\n",
            "25/25 [==============================] - 151s 6s/step - loss: 0.5061 - accuracy: 0.8133 - val_loss: 1.8279 - val_accuracy: 0.7500\n",
            "Epoch 21/50\n",
            "25/25 [==============================] - 151s 6s/step - loss: 0.5407 - accuracy: 0.7933 - val_loss: 1.6010 - val_accuracy: 0.6250\n",
            "Epoch 22/50\n",
            "25/25 [==============================] - 152s 6s/step - loss: 0.3596 - accuracy: 0.8533 - val_loss: 0.0204 - val_accuracy: 0.8750\n",
            "Epoch 23/50\n",
            "25/25 [==============================] - 151s 6s/step - loss: 0.4162 - accuracy: 0.8733 - val_loss: 0.2569 - val_accuracy: 0.8750\n",
            "Epoch 24/50\n",
            "25/25 [==============================] - 152s 6s/step - loss: 0.3483 - accuracy: 0.8933 - val_loss: 1.3993 - val_accuracy: 0.8571\n",
            "Epoch 25/50\n",
            "25/25 [==============================] - 152s 6s/step - loss: 0.3509 - accuracy: 0.8867 - val_loss: 0.2989 - val_accuracy: 0.8750\n",
            "Epoch 26/50\n",
            "25/25 [==============================] - 151s 6s/step - loss: 0.2899 - accuracy: 0.8851 - val_loss: 0.5572 - val_accuracy: 0.8750\n",
            "Epoch 27/50\n",
            "25/25 [==============================] - 150s 6s/step - loss: 0.1714 - accuracy: 0.9467 - val_loss: 1.8288 - val_accuracy: 0.7500\n",
            "Epoch 28/50\n",
            "25/25 [==============================] - 150s 6s/step - loss: 0.1284 - accuracy: 0.9730 - val_loss: 0.1834 - val_accuracy: 0.8750\n",
            "Epoch 29/50\n",
            "25/25 [==============================] - 151s 6s/step - loss: 0.2897 - accuracy: 0.8933 - val_loss: 0.4441 - val_accuracy: 1.0000\n",
            "Epoch 30/50\n",
            "25/25 [==============================] - 151s 6s/step - loss: 0.2908 - accuracy: 0.8667 - val_loss: 0.0564 - val_accuracy: 0.7500\n",
            "Epoch 31/50\n",
            "25/25 [==============================] - 151s 6s/step - loss: 0.1967 - accuracy: 0.9267 - val_loss: 1.7920 - val_accuracy: 0.8750\n",
            "Epoch 32/50\n",
            "25/25 [==============================] - 151s 6s/step - loss: 0.1603 - accuracy: 0.9600 - val_loss: 0.0800 - val_accuracy: 0.8750\n",
            "Epoch 33/50\n",
            "25/25 [==============================] - 152s 6s/step - loss: 0.1630 - accuracy: 0.9467 - val_loss: 0.1202 - val_accuracy: 0.8750\n",
            "Epoch 34/50\n",
            "25/25 [==============================] - 152s 6s/step - loss: 0.1765 - accuracy: 0.9467 - val_loss: 0.0270 - val_accuracy: 1.0000\n",
            "Epoch 35/50\n",
            "25/25 [==============================] - 150s 6s/step - loss: 0.1504 - accuracy: 0.9527 - val_loss: 0.0309 - val_accuracy: 0.8750\n",
            "Epoch 36/50\n",
            "25/25 [==============================] - 151s 6s/step - loss: 0.1540 - accuracy: 0.9533 - val_loss: 0.0111 - val_accuracy: 1.0000\n",
            "Epoch 37/50\n",
            "25/25 [==============================] - 151s 6s/step - loss: 0.0532 - accuracy: 0.9933 - val_loss: 0.0805 - val_accuracy: 1.0000\n",
            "Epoch 38/50\n",
            "25/25 [==============================] - 151s 6s/step - loss: 0.0537 - accuracy: 0.9933 - val_loss: 1.1054 - val_accuracy: 0.8750\n",
            "Epoch 39/50\n",
            "25/25 [==============================] - 151s 6s/step - loss: 0.0419 - accuracy: 0.9933 - val_loss: 0.0052 - val_accuracy: 1.0000\n",
            "Epoch 40/50\n",
            "25/25 [==============================] - 151s 6s/step - loss: 0.0706 - accuracy: 0.9800 - val_loss: 0.0197 - val_accuracy: 0.7500\n",
            "Epoch 41/50\n",
            "25/25 [==============================] - 150s 6s/step - loss: 0.0885 - accuracy: 0.9667 - val_loss: 0.2512 - val_accuracy: 1.0000\n",
            "Epoch 42/50\n",
            "25/25 [==============================] - 151s 6s/step - loss: 0.0855 - accuracy: 0.9730 - val_loss: 0.4098 - val_accuracy: 0.7500\n",
            "Epoch 43/50\n",
            "25/25 [==============================] - 151s 6s/step - loss: 0.0588 - accuracy: 0.9867 - val_loss: 0.0190 - val_accuracy: 0.8750\n",
            "Epoch 44/50\n",
            "25/25 [==============================] - 151s 6s/step - loss: 0.0253 - accuracy: 1.0000 - val_loss: 0.0012 - val_accuracy: 0.8750\n",
            "Epoch 45/50\n",
            "25/25 [==============================] - 152s 6s/step - loss: 0.0225 - accuracy: 1.0000 - val_loss: 1.3642e-04 - val_accuracy: 0.8750\n",
            "Epoch 46/50\n",
            "25/25 [==============================] - 151s 6s/step - loss: 0.0212 - accuracy: 1.0000 - val_loss: 1.0687 - val_accuracy: 0.8750\n",
            "Epoch 47/50\n",
            "25/25 [==============================] - 151s 6s/step - loss: 0.0194 - accuracy: 1.0000 - val_loss: 0.0043 - val_accuracy: 1.0000\n",
            "Epoch 48/50\n",
            "25/25 [==============================] - 151s 6s/step - loss: 0.0180 - accuracy: 0.9933 - val_loss: 0.0014 - val_accuracy: 0.8750\n",
            "Epoch 49/50\n",
            "25/25 [==============================] - 151s 6s/step - loss: 0.0212 - accuracy: 0.9933 - val_loss: 0.0032 - val_accuracy: 0.8750\n",
            "Epoch 50/50\n",
            "25/25 [==============================] - 151s 6s/step - loss: 0.0235 - accuracy: 1.0000 - val_loss: 1.0743 - val_accuracy: 0.7500\n"
          ],
          "name": "stdout"
        }
      ]
    },
    {
      "cell_type": "code",
      "metadata": {
        "id": "_d3eqwhYQBO0",
        "colab_type": "code",
        "colab": {}
      },
      "source": [
        "model.reshape()"
      ],
      "execution_count": 0,
      "outputs": []
    },
    {
      "cell_type": "code",
      "metadata": {
        "id": "Pbtaw8oXQJ8P",
        "colab_type": "code",
        "colab": {
          "base_uri": "https://localhost:8080/",
          "height": 34
        },
        "outputId": "e43bf94a-ce82-400d-952d-1bddd971c5e0"
      },
      "source": [
        "X_test.shape,y_test.shape"
      ],
      "execution_count": 57,
      "outputs": [
        {
          "output_type": "execute_result",
          "data": {
            "text/plain": [
              "((193, 270000), (193,))"
            ]
          },
          "metadata": {
            "tags": []
          },
          "execution_count": 57
        }
      ]
    },
    {
      "cell_type": "code",
      "metadata": {
        "id": "g_qkloRHkaOs",
        "colab_type": "code",
        "colab": {
          "base_uri": "https://localhost:8080/",
          "height": 492
        },
        "outputId": "8cc1468a-a3d7-4d9f-9966-ef07efb8c8f5"
      },
      "source": [
        "pd.DataFrame(history.history).plot(figsize=(10, 7))\n",
        "plt.grid(True)\n",
        "plt.title('Model Accuracy/Loss')\n",
        "plt.xlabel('epoch')\n",
        "plt.gca().set_ylim(0, 1.1)\n",
        "plt.show()\n",
        "save_fig(\"CNN-50-25\")"
      ],
      "execution_count": 33,
      "outputs": [
        {
          "output_type": "display_data",
          "data": {
            "image/png": "[encoded data removed]",
            "text/plain": [
              "<Figure size 720x504 with 1 Axes>"
            ]
          },
          "metadata": {
            "tags": [],
            "needs_background": "light"
          }
        },
        {
          "output_type": "stream",
          "text": [
            "Saving figure CNN-50-25\n"
          ],
          "name": "stdout"
        },
        {
          "output_type": "display_data",
          "data": {
            "text/plain": [
              "<Figure size 432x288 with 0 Axes>"
            ]
          },
          "metadata": {
            "tags": []
          }
        }
      ]
    },
    {
      "cell_type": "code",
      "metadata": {
        "id": "PVy9jg570R4j",
        "colab_type": "code",
        "colab": {
          "base_uri": "https://localhost:8080/",
          "height": 329
        },
        "outputId": "45582f34-22b9-4799-a2aa-fd431233eb11"
      },
      "source": [
        "plt.plot(history.history['loss'])\n",
        "plt.plot(history.history['val_loss'])\n",
        "plt.title('model loss')\n",
        "plt.ylabel('loss')\n",
        "plt.xlabel('epoch')\n",
        "plt.legend(['train', 'test'], loc='upper right')\n",
        "plt.show()\n",
        "save_fig(\"CNN-Loss-50-25\")"
      ],
      "execution_count": 34,
      "outputs": [
        {
          "output_type": "display_data",
          "data": {
            "image/png": "[encoded data removed]",
            "text/plain": [
              "<Figure size 432x288 with 1 Axes>"
            ]
          },
          "metadata": {
            "tags": [],
            "needs_background": "light"
          }
        },
        {
          "output_type": "stream",
          "text": [
            "Saving figure CNN-Loss-50-25\n"
          ],
          "name": "stdout"
        },
        {
          "output_type": "display_data",
          "data": {
            "text/plain": [
              "<Figure size 432x288 with 0 Axes>"
            ]
          },
          "metadata": {
            "tags": []
          }
        }
      ]
    },
    {
      "cell_type": "code",
      "metadata": {
        "id": "MEkrHjMv0Rg2",
        "colab_type": "code",
        "colab": {
          "base_uri": "https://localhost:8080/",
          "height": 329
        },
        "outputId": "cd453c63-273e-42f6-c4c1-53862b9858de"
      },
      "source": [
        "plt.plot(history.history['accuracy'])\n",
        "plt.plot(history.history['val_accuracy'])\n",
        "plt.title('model accuracy')\n",
        "plt.ylabel('accuracy')\n",
        "plt.xlabel('epoch')\n",
        "plt.legend(['train', 'test'], loc='lower right')\n",
        "plt.show()\n",
        "save_fig(\"CNN-Acc-50-25\")"
      ],
      "execution_count": 35,
      "outputs": [
        {
          "output_type": "display_data",
          "data": {
            "image/png": "[encoded data removed]",
            "text/plain": [
              "<Figure size 432x288 with 1 Axes>"
            ]
          },
          "metadata": {
            "tags": [],
            "needs_background": "light"
          }
        },
        {
          "output_type": "stream",
          "text": [
            "Saving figure CNN-Acc-50-25\n"
          ],
          "name": "stdout"
        },
        {
          "output_type": "display_data",
          "data": {
            "text/plain": [
              "<Figure size 432x288 with 0 Axes>"
            ]
          },
          "metadata": {
            "tags": []
          }
        }
      ]
    },
    {
      "cell_type": "code",
      "metadata": {
        "id": "1yXm678akxX-",
        "colab_type": "code",
        "colab": {}
      },
      "source": [
        "file = []\n",
        "file = [\"/30B1D5CF00000578-3422358-image-a-31_1454067469539.jpg\",\"/117722373-male-senior-badminton-single-player-hand-holds-white-shuttle-cock-ready-to-serve-forehand-with-racke.jpg\",\n",
        "        \"/13060572.jpeg\", \"/1498126455_957230_1498161853_noticia_normal.jpg\",\n",
        "        \"/images39.jpg\", \"/11082017_uwvolleyball_213726-780x520.jpg\",\n",
        "        \"/Men+Water+Polo+15th+FINA+World+Championships+osztgQ5Tirzx.jpg\"]\n",
        "\n",
        "label_map = (train_generator.class_indices)\n",
        "label_list = getList(label_map)\n"
      ],
      "execution_count": 0,
      "outputs": []
    },
    {
      "cell_type": "code",
      "metadata": {
        "id": "aEljQqGVkZvx",
        "colab_type": "code",
        "colab": {
          "base_uri": "https://localhost:8080/",
          "height": 136
        },
        "outputId": "9a6b81a5-b00f-4090-8356-56a7f195e278"
      },
      "source": [
        "indx = 0\n",
        "for label_loop in label_list:\n",
        "    dir_img =  './valid/' + label_loop + file[indx]\n",
        "    img = cv2.imread(dir_img)\n",
        "    image = process_image(img,300)\n",
        "    \n",
        "    #CV2 reads an image in BGR format. We need to convert it to RGB\n",
        "    b,g,r = cv2.split(image)       # get b,g,r\n",
        "    rgb_img = cv2.merge([r,g,b])     # switch it to rgb\n",
        "    img_rank4 = np.expand_dims(rgb_img/255, axis=0)\n",
        "    model.predict_classes(img_rank4)\n",
        "    y_pred = list(label_map.keys())[model.predict_classes(img_rank4)[0]]\n",
        "    print(indx,'Label: ' ,label_loop, '\\t\\tPrediction: ', y_pred)\n",
        "    indx += 1\n",
        "    "
      ],
      "execution_count": 37,
      "outputs": [
        {
          "output_type": "stream",
          "text": [
            "0 Label:  americanfootball \t\tPrediction:  soccer\n",
            "1 Label:  badminton \t\tPrediction:  badminton\n",
            "2 Label:  basket \t\tPrediction:  basket\n",
            "3 Label:  soccer \t\tPrediction:  soccer\n",
            "4 Label:  tabletennis \t\tPrediction:  tabletennis\n",
            "5 Label:  volleyball \t\tPrediction:  volleyball\n",
            "6 Label:  waterpolo \t\tPrediction:  waterpolo\n"
          ],
          "name": "stdout"
        }
      ]
    },
    {
      "cell_type": "markdown",
      "metadata": {
        "id": "ReHYBC6YT0LS",
        "colab_type": "text"
      },
      "source": [
        "### Predicted correctly 6/7 validation images"
      ]
    },
    {
      "cell_type": "code",
      "metadata": {
        "id": "07emeXYHlYps",
        "colab_type": "code",
        "colab": {}
      },
      "source": [
        "# Build a list of files in the test directory\n",
        "directory = './test/'\n",
        "test_files=[];\n",
        "for path, dirs, files in os.walk(directory):\n",
        "    for file in files:\n",
        "        test_files.append(file)\n"
      ],
      "execution_count": 0,
      "outputs": []
    },
    {
      "cell_type": "code",
      "metadata": {
        "id": "9f8irWGxlYbn",
        "colab_type": "code",
        "colab": {
          "base_uri": "https://localhost:8080/",
          "height": 649
        },
        "outputId": "8852c6bb-ed1b-4d63-f747-de0e1b500871"
      },
      "source": [
        "file_test_length = len(test_files)\n",
        "indx = 0\n",
        "#Read file, process file, arrange in RGB format, then predict based on CNN model\n",
        "for loop in range(file_test_length):\n",
        "    img = cv2.imread(directory+test_files[loop])\n",
        "    image = process_image(img,300)\n",
        "    #CV2 reads an image in BGR format. We need to convert it to RGB\n",
        "    b,g,r = cv2.split(image)       # get b,g,r\n",
        "    rgb_img = cv2.merge([r,g,b])     # switch it to rgb\n",
        "    img_rank4 = np.expand_dims(rgb_img/255, axis=0)\n",
        "    model.predict_classes(img_rank4)\n",
        "    y_pred = list(label_map.keys())[model.predict_classes(img_rank4)[0]]\n",
        "    print(loop,'File: ' ,test_files[loop], '\\t\\tPrediction: ', y_pred)\n",
        "    indx += 1"
      ],
      "execution_count": 45,
      "outputs": [
        {
          "output_type": "stream",
          "text": [
            "0 File:  68386.jpg \t\tPrediction:  soccer\n",
            "1 File:  Mondial_Ping_-_Men27s_Singles_-_Round_4_-_Kenta_Matsudaira-Vladimir_Samsonov_-_57.jpg \t\tPrediction:  tabletennis\n",
            "2 File:  Basketball002.jpg \t\tPrediction:  basket\n",
            "3 File:  _big_LIMWZBLPAEDWLUE.20161215145219.jpg \t\tPrediction:  basket\n",
            "4 File:  kobebryantguardingthegreats_large.jpg \t\tPrediction:  basket\n",
            "5 File:  images39.jpg \t\tPrediction:  tabletennis\n",
            "6 File:  61HpeuIPmAL._AC_SX425_.jpg \t\tPrediction:  badminton\n",
            "7 File:  5a07d34664fcd.image.jpg \t\tPrediction:  basket\n",
            "8 File:  images11.jpg \t\tPrediction:  tabletennis\n",
            "9 File:  5a122c2f15121.image.jpg \t\tPrediction:  volleyball\n",
            "10 File:  _middle_MK2_3158.JPG \t\tPrediction:  volleyball\n",
            "11 File:  standing-thumb.jpg \t\tPrediction:  volleyball\n",
            "12 File:  american-football-pictures-hd-26.jpg \t\tPrediction:  americanfootball\n",
            "13 File:  1200px-WaterPolo.JPG \t\tPrediction:  waterpolo\n",
            "14 File:  images2.jpg \t\tPrediction:  americanfootball\n",
            "15 File:  image10.jpeg \t\tPrediction:  tabletennis\n",
            "16 File:  300x200xtackle.jpg.pagespeed.ic.xcWv-LEGjm.jpg \t\tPrediction:  americanfootball\n",
            "17 File:  57adec3304732f24008b4af3-750-500.jpg \t\tPrediction:  waterpolo\n",
            "18 File:  _middle_BJH_3243xp.jpg \t\tPrediction:  volleyball\n",
            "19 File:  57f9b596ce4e5.image.jpg \t\tPrediction:  waterpolo\n",
            "20 File:  5a6900dc537c2.image.jpg \t\tPrediction:  basket\n",
            "21 File:  2014-water-polo-stanford-junior-olympics-16u-18.jpg \t\tPrediction:  waterpolo\n",
            "22 File:  elite-volleyball-program-hitting-and-speed-jump-training-1255.jpg \t\tPrediction:  volleyball\n",
            "23 File:  16b8e1a9c3712ea8a9cdb78632564b86.jpg \t\tPrediction:  waterpolo\n",
            "24 File:  WaterPolo_ADiv_Boys_ACSI_ACJC-11.jpg \t\tPrediction:  waterpolo\n",
            "25 File:  19BADMINTONweb1-superJumbo.jpg \t\tPrediction:  badminton\n",
            "26 File:  images154.jpg \t\tPrediction:  soccer\n",
            "27 File:  24-512.png \t\tPrediction:  badminton\n",
            "28 File:  _middle_120116VballvsHoward.jpg \t\tPrediction:  volleyball\n",
            "29 File:  ping-pong-tips-680x450.jpeg \t\tPrediction:  tabletennis\n",
            "30 File:  5tube-lot-A-300-BWF-Match-Game-Use-Li-Ning-Badminton-Shuttlecock-Goose-Feather-Battledore-Tournament.jpg_640x640q70.jpg \t\tPrediction:  badminton\n",
            "31 File:  life-style.jpg \t\tPrediction:  tabletennis\n",
            "32 File:  1200px-Volleyball_game.jpg \t\tPrediction:  volleyball\n",
            "33 File:  2013-WNT-vs-Finland-1-620x400.jpg \t\tPrediction:  americanfootball\n",
            "34 File:  competition_grade_shuttlecock_made_with_quality_cork_tip.jpg \t\tPrediction:  soccer\n",
            "35 File:  1280px-Water_polo-1.jpg \t\tPrediction:  waterpolo\n"
          ],
          "name": "stdout"
        }
      ]
    },
    {
      "cell_type": "markdown",
      "metadata": {
        "id": "YzNshVt6Tb59",
        "colab_type": "text"
      },
      "source": [
        "### Predicted correctly 27/28 test images. "
      ]
    },
    {
      "cell_type": "code",
      "metadata": {
        "id": "K8XSt2t-kCtp",
        "colab_type": "code",
        "colab": {
          "base_uri": "https://localhost:8080/",
          "height": 269
        },
        "outputId": "5da2b4ba-35b6-4ebc-dcf4-ffcfe11a9a69"
      },
      "source": [
        "show_image(directory+test_files[34],300)"
      ],
      "execution_count": 93,
      "outputs": [
        {
          "output_type": "display_data",
          "data": {
            "image/png": "[encoded data removed]",
            "text/plain": [
              "<Figure size 432x288 with 1 Axes>"
            ]
          },
          "metadata": {
            "tags": [],
            "needs_background": "light"
          }
        }
      ]
    },
    {
      "cell_type": "markdown",
      "metadata": {
        "id": "K40cTWwuigpR",
        "colab_type": "text"
      },
      "source": [
        "## Saving the model"
      ]
    },
    {
      "cell_type": "code",
      "metadata": {
        "id": "wRIVl11QZwUI",
        "colab_type": "code",
        "colab": {}
      },
      "source": [
        "model.save('/content/drive/My Drive/Colab Notebooks/Project1/Model-50-25.h5')"
      ],
      "execution_count": 0,
      "outputs": []
    }
  ]
}